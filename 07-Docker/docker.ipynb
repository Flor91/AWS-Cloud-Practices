{
 "cells": [
  {
   "cell_type": "markdown",
   "metadata": {},
   "source": [
    "# 1- Introducción"
   ]
  },
  {
   "cell_type": "code",
   "execution_count": 1,
   "metadata": {},
   "outputs": [],
   "source": [
    "import os"
   ]
  },
  {
   "cell_type": "code",
   "execution_count": 3,
   "metadata": {},
   "outputs": [
    {
     "name": "stdout",
     "output_type": "stream",
     "text": [
      "\r\n",
      "Usage:\tdocker [OPTIONS] COMMAND\r\n",
      "\r\n",
      "A self-sufficient runtime for containers\r\n",
      "\r\n",
      "Options:\r\n",
      "      --config string      Location of client config files (default\r\n",
      "                           \"/Users/florenciasilvestre/.docker\")\r\n",
      "  -c, --context string     Name of the context to use to connect to the\r\n",
      "                           daemon (overrides DOCKER_HOST env var and\r\n",
      "                           default context set with \"docker context use\")\r\n",
      "  -D, --debug              Enable debug mode\r\n",
      "  -H, --host list          Daemon socket(s) to connect to\r\n",
      "  -l, --log-level string   Set the logging level\r\n",
      "                           (\"debug\"|\"info\"|\"warn\"|\"error\"|\"fatal\")\r\n",
      "                           (default \"info\")\r\n",
      "      --tls                Use TLS; implied by --tlsverify\r\n",
      "      --tlscacert string   Trust certs signed only by this CA (default\r\n",
      "                           \"/Users/florenciasilvestre/.docker/ca.pem\")\r\n",
      "      --tlscert string     Path to TLS certificate file (default\r\n",
      "                           \"/Users/florenciasilvestre/.docker/cert.pem\")\r\n",
      "      --tlskey string      Path to TLS key file (default\r\n",
      "                           \"/Users/florenciasilvestre/.docker/key.pem\")\r\n",
      "      --tlsverify          Use TLS and verify the remote\r\n",
      "  -v, --version            Print version information and quit\r\n",
      "\r\n",
      "Management Commands:\r\n",
      "  builder     Manage builds\r\n",
      "  config      Manage Docker configs\r\n",
      "  container   Manage containers\r\n",
      "  context     Manage contexts\r\n",
      "  image       Manage images\r\n",
      "  network     Manage networks\r\n",
      "  node        Manage Swarm nodes\r\n",
      "  plugin      Manage plugins\r\n",
      "  secret      Manage Docker secrets\r\n",
      "  service     Manage services\r\n",
      "  stack       Manage Docker stacks\r\n",
      "  swarm       Manage Swarm\r\n",
      "  system      Manage Docker\r\n",
      "  trust       Manage trust on Docker images\r\n",
      "  volume      Manage volumes\r\n",
      "\r\n",
      "Commands:\r\n",
      "  attach      Attach local standard input, output, and error streams to a running container\r\n",
      "  build       Build an image from a Dockerfile\r\n",
      "  commit      Create a new image from a container's changes\r\n",
      "  cp          Copy files/folders between a container and the local filesystem\r\n",
      "  create      Create a new container\r\n",
      "  diff        Inspect changes to files or directories on a container's filesystem\r\n",
      "  events      Get real time events from the server\r\n",
      "  exec        Run a command in a running container\r\n",
      "  export      Export a container's filesystem as a tar archive\r\n",
      "  history     Show the history of an image\r\n",
      "  images      List images\r\n",
      "  import      Import the contents from a tarball to create a filesystem image\r\n",
      "  info        Display system-wide information\r\n",
      "  inspect     Return low-level information on Docker objects\r\n",
      "  kill        Kill one or more running containers\r\n",
      "  load        Load an image from a tar archive or STDIN\r\n",
      "  login       Log in to a Docker registry\r\n",
      "  logout      Log out from a Docker registry\r\n",
      "  logs        Fetch the logs of a container\r\n",
      "  pause       Pause all processes within one or more containers\r\n",
      "  port        List port mappings or a specific mapping for the container\r\n",
      "  ps          List containers\r\n",
      "  pull        Pull an image or a repository from a registry\r\n",
      "  push        Push an image or a repository to a registry\r\n",
      "  rename      Rename a container\r\n",
      "  restart     Restart one or more containers\r\n",
      "  rm          Remove one or more containers\r\n",
      "  rmi         Remove one or more images\r\n",
      "  run         Run a command in a new container\r\n",
      "  save        Save one or more images to a tar archive (streamed to STDOUT by default)\r\n",
      "  search      Search the Docker Hub for images\r\n",
      "  start       Start one or more stopped containers\r\n",
      "  stats       Display a live stream of container(s) resource usage statistics\r\n",
      "  stop        Stop one or more running containers\r\n",
      "  tag         Create a tag TARGET_IMAGE that refers to SOURCE_IMAGE\r\n",
      "  top         Display the running processes of a container\r\n",
      "  unpause     Unpause all processes within one or more containers\r\n",
      "  update      Update configuration of one or more containers\r\n",
      "  version     Show the Docker version information\r\n",
      "  wait        Block until one or more containers stop, then print their exit codes\r\n",
      "\r\n",
      "Run 'docker COMMAND --help' for more information on a command.\r\n"
     ]
    }
   ],
   "source": [
    "!docker"
   ]
  },
  {
   "cell_type": "code",
   "execution_count": 4,
   "metadata": {},
   "outputs": [
    {
     "name": "stdout",
     "output_type": "stream",
     "text": [
      "Client: Docker Engine - Community\r\n",
      " Version:           19.03.8\r\n",
      " API version:       1.40\r\n",
      " Go version:        go1.12.17\r\n",
      " Git commit:        afacb8b\r\n",
      " Built:             Wed Mar 11 01:21:11 2020\r\n",
      " OS/Arch:           darwin/amd64\r\n",
      " Experimental:      false\r\n",
      "\r\n",
      "Server: Docker Engine - Community\r\n",
      " Engine:\r\n",
      "  Version:          19.03.8\r\n",
      "  API version:      1.40 (minimum version 1.12)\r\n",
      "  Go version:       go1.12.17\r\n",
      "  Git commit:       afacb8b\r\n",
      "  Built:            Wed Mar 11 01:29:16 2020\r\n",
      "  OS/Arch:          linux/amd64\r\n",
      "  Experimental:     false\r\n",
      " containerd:\r\n",
      "  Version:          v1.2.13\r\n",
      "  GitCommit:        7ad184331fa3e55e52b890ea95e65ba581ae3429\r\n",
      " runc:\r\n",
      "  Version:          1.0.0-rc10\r\n",
      "  GitCommit:        dc9208a3303feef5b3839f4323d9beb36df0a9dd\r\n",
      " docker-init:\r\n",
      "  Version:          0.18.0\r\n",
      "  GitCommit:        fec3683\r\n"
     ]
    }
   ],
   "source": [
    "!docker version"
   ]
  },
  {
   "cell_type": "markdown",
   "metadata": {},
   "source": [
    "- Cliente / Servidor\n",
    "- Deberian coincidir las versiones de API"
   ]
  },
  {
   "cell_type": "code",
   "execution_count": null,
   "metadata": {},
   "outputs": [],
   "source": [
    "# !docker rmi -f hello-world"
   ]
  },
  {
   "cell_type": "code",
   "execution_count": 5,
   "metadata": {},
   "outputs": [
    {
     "name": "stdout",
     "output_type": "stream",
     "text": [
      "\r\n",
      "Hello from Docker!\r\n",
      "This message shows that your installation appears to be working correctly.\r\n",
      "\r\n",
      "To generate this message, Docker took the following steps:\r\n",
      " 1. The Docker client contacted the Docker daemon.\r\n",
      " 2. The Docker daemon pulled the \"hello-world\" image from the Docker Hub.\r\n",
      "    (amd64)\r\n",
      " 3. The Docker daemon created a new container from that image which runs the\r\n",
      "    executable that produces the output you are currently reading.\r\n",
      " 4. The Docker daemon streamed that output to the Docker client, which sent it\r\n",
      "    to your terminal.\r\n",
      "\r\n",
      "To try something more ambitious, you can run an Ubuntu container with:\r\n",
      " $ docker run -it ubuntu bash\r\n",
      "\r\n",
      "Share images, automate workflows, and more with a free Docker ID:\r\n",
      " https://hub.docker.com/\r\n",
      "\r\n",
      "For more examples and ideas, visit:\r\n",
      " https://docs.docker.com/get-started/\r\n",
      "\r\n"
     ]
    }
   ],
   "source": [
    "!docker run hello-world"
   ]
  },
  {
   "cell_type": "markdown",
   "metadata": {},
   "source": [
    "### Primero la intentó buscar localmente, y como no la encontró, la fue a buscar a Docker Hub  \n",
    "### Docker Hub es el repositorio central de imagenes de Docker  \n",
    "### https://hub.docker.com/_/hello-world"
   ]
  },
  {
   "cell_type": "markdown",
   "metadata": {},
   "source": [
    "### Se pueden bajar otras versiones de esa imagen en https://hub.docker.com/_/hello-world?tab=tags"
   ]
  },
  {
   "cell_type": "code",
   "execution_count": 6,
   "metadata": {},
   "outputs": [
    {
     "name": "stdout",
     "output_type": "stream",
     "text": [
      "\r\n",
      "Hello from Docker!\r\n",
      "This message shows that your installation appears to be working correctly.\r\n",
      "\r\n",
      "To generate this message, Docker took the following steps:\r\n",
      " 1. The Docker client contacted the Docker daemon.\r\n",
      " 2. The Docker daemon pulled the \"hello-world\" image from the Docker Hub.\r\n",
      "    (amd64)\r\n",
      " 3. The Docker daemon created a new container from that image which runs the\r\n",
      "    executable that produces the output you are currently reading.\r\n",
      " 4. The Docker daemon streamed that output to the Docker client, which sent it\r\n",
      "    to your terminal.\r\n",
      "\r\n",
      "To try something more ambitious, you can run an Ubuntu container with:\r\n",
      " $ docker run -it ubuntu bash\r\n",
      "\r\n",
      "Share images, automate workflows, and more with a free Docker ID:\r\n",
      " https://hub.docker.com/\r\n",
      "\r\n",
      "For more examples and ideas, visit:\r\n",
      " https://docs.docker.com/get-started/\r\n",
      "\r\n"
     ]
    }
   ],
   "source": [
    "!docker run hello-world:linux"
   ]
  },
  {
   "cell_type": "markdown",
   "metadata": {},
   "source": [
    "### ¿Que imágenes tenemos bajadas hasta ahora en nuestra máquina?"
   ]
  },
  {
   "cell_type": "code",
   "execution_count": 7,
   "metadata": {},
   "outputs": [
    {
     "name": "stdout",
     "output_type": "stream",
     "text": [
      "REPOSITORY                TAG                 IMAGE ID            CREATED             SIZE\r\n",
      "nginx                     latest              2622e6cca7eb        7 days ago          132MB\r\n",
      "ubuntu                    latest              1d622ef86b13        7 weeks ago         73.9MB\r\n",
      "hello-world               latest              bf756fb1ae65        5 months ago        13.3kB\r\n",
      "hello-world               linux               bf756fb1ae65        5 months ago        13.3kB\r\n",
      "postgres                  9.6                 1ac5eccdbc65        6 months ago        250MB\r\n",
      "zpencerq/docker-airflow   1.10.2              18ccf183a3b7        16 months ago       836MB\r\n",
      "uber/ssh-agent-forward    latest              37e4f49b0353        2 years ago         11.6MB\r\n",
      "redis                     3.2.7               74d8f543ac97        3 years ago         184MB\r\n"
     ]
    }
   ],
   "source": [
    "# O !docker image ls\n",
    "!docker images"
   ]
  },
  {
   "cell_type": "markdown",
   "metadata": {},
   "source": [
    "### ¿Cuales son los containers que corrimos hasta ahora?"
   ]
  },
  {
   "cell_type": "code",
   "execution_count": 8,
   "metadata": {},
   "outputs": [
    {
     "name": "stdout",
     "output_type": "stream",
     "text": [
      "CONTAINER ID        IMAGE                            COMMAND                  CREATED             STATUS                           PORTS                                        NAMES\r\n",
      "91ec0e8a91aa        hello-world:linux                \"/hello\"                 14 seconds ago      Exited (0) 12 seconds ago                                                     festive_curie\r\n",
      "5d076fc6c504        hello-world                      \"/hello\"                 17 seconds ago      Exited (0) 16 seconds ago                                                     unruffled_elgamal\r\n",
      "20feb9631f27        nginx                            \"/docker-entrypoint.…\"   2 minutes ago       Created                                                                       priceless_chatterjee\r\n",
      "26c510493661        nginx                            \"/docker-entrypoint.…\"   4 minutes ago       Up 4 minutes                     0.0.0.0:80->80/tcp                           serene_feistel\r\n",
      "bf04b732f05e        ubuntu                           \"bash\"                   10 minutes ago      Exited (0) 3 minutes ago                                                      gallant_lamport\r\n",
      "92058694a1c4        hello-world:linux                \"/hello\"                 17 minutes ago      Exited (0) 17 minutes ago                                                     eloquent_feistel\r\n",
      "34bfed026cd8        hello-world                      \"/hello\"                 17 minutes ago      Exited (0) 17 minutes ago                                                     youthful_faraday\r\n",
      "85afbd3853dc        hello-world:linux                \"/hello\"                 20 minutes ago      Exited (0) 20 minutes ago                                                     nervous_heyrovsky\r\n",
      "a8e7b6c2dcba        hello-world                      \"/hello\"                 22 minutes ago      Exited (0) 22 minutes ago                                                     happy_bartik\r\n",
      "5f62abcf312b        zpencerq/docker-airflow:1.10.2   \"/entrypoint.sh work…\"   6 months ago        Exited (127) About an hour ago   5555/tcp, 8080/tcp, 8793/tcp                 airflow-data_worker_1\r\n",
      "5e603ecaa60e        zpencerq/docker-airflow:1.10.2   \"/entrypoint.sh sche…\"   6 months ago        Exited (127) About an hour ago   5555/tcp, 8080/tcp, 8793/tcp                 airflow-data_scheduler_1\r\n",
      "35909e786787        zpencerq/docker-airflow:1.10.2   \"/entrypoint.sh flow…\"   6 months ago        Up 10 seconds                    8080/tcp, 0.0.0.0:5555->5555/tcp, 8793/tcp   airflow-data_flower_1\r\n",
      "f2967d49db8c        zpencerq/docker-airflow:1.10.2   \"/entrypoint.sh webs…\"   6 months ago        Exited (127) About an hour ago   5555/tcp, 8793/tcp, 0.0.0.0:8080->8080/tcp   airflow-data_webserver_1\r\n",
      "6c70f834caa5        postgres:9.6                     \"docker-entrypoint.s…\"   6 months ago        Exited (0) 5 months ago                                                       airflow-data_postgres_1\r\n",
      "934ac5ae2b8e        redis:3.2.7                      \"docker-entrypoint.s…\"   6 months ago        Exited (0) 5 months ago                                                       airflow-data_redis_1\r\n",
      "6f1104d4c4ea        uber/ssh-agent-forward:latest    \"/sbin/tini -- /dock…\"   6 months ago        Exited (255) 5 months ago        0.0.0.0:2244->22/tcp                         pinata-sshd\r\n"
     ]
    }
   ],
   "source": [
    "!docker container ls --all"
   ]
  },
  {
   "cell_type": "markdown",
   "metadata": {},
   "source": [
    "### Podemos bajar una imagen pero no levantar el container"
   ]
  },
  {
   "cell_type": "code",
   "execution_count": 13,
   "metadata": {},
   "outputs": [
    {
     "name": "stdout",
     "output_type": "stream",
     "text": [
      "Using default tag: latest\n",
      "latest: Pulling from library/ubuntu\n",
      "\n",
      "\u001B[1B\n",
      "\u001B[1B\n",
      "\u001B[1B\n",
      "\u001B[1BDigest: sha256:b88f8848e9a1a4e4558ba7cfc4acc5879e1d0e7ac06401409062ad2627e6fb58\n",
      "Status: Downloaded newer image for ubuntu:latest\n",
      "docker.io/library/ubuntu:latest\n"
     ]
    }
   ],
   "source": [
    "#~\n",
    "!docker pull ubuntu"
   ]
  },
  {
   "cell_type": "code",
   "execution_count": 9,
   "metadata": {},
   "outputs": [
    {
     "name": "stdout",
     "output_type": "stream",
     "text": [
      "REPOSITORY                TAG                 IMAGE ID            CREATED             SIZE\r\n",
      "nginx                     latest              2622e6cca7eb        7 days ago          132MB\r\n",
      "ubuntu                    latest              1d622ef86b13        7 weeks ago         73.9MB\r\n",
      "hello-world               latest              bf756fb1ae65        5 months ago        13.3kB\r\n",
      "hello-world               linux               bf756fb1ae65        5 months ago        13.3kB\r\n",
      "postgres                  9.6                 1ac5eccdbc65        6 months ago        250MB\r\n",
      "zpencerq/docker-airflow   1.10.2              18ccf183a3b7        16 months ago       836MB\r\n",
      "uber/ssh-agent-forward    latest              37e4f49b0353        2 years ago         11.6MB\r\n",
      "redis                     3.2.7               74d8f543ac97        3 years ago         184MB\r\n"
     ]
    }
   ],
   "source": [
    "!docker images"
   ]
  },
  {
   "cell_type": "code",
   "execution_count": null,
   "metadata": {},
   "outputs": [],
   "source": [
    "# Terminal\n",
    "!docker run --interactive --tty ubuntu bash"
   ]
  },
  {
   "cell_type": "markdown",
   "metadata": {},
   "source": [
    "### ¿Que containers están corriendo en este momento?"
   ]
  },
  {
   "cell_type": "code",
   "execution_count": 10,
   "metadata": {},
   "outputs": [
    {
     "name": "stdout",
     "output_type": "stream",
     "text": [
      "CONTAINER ID        IMAGE                            COMMAND                  CREATED             STATUS              PORTS                                        NAMES\r\n",
      "26c510493661        nginx                            \"/docker-entrypoint.…\"   4 minutes ago       Up 4 minutes        0.0.0.0:80->80/tcp                           serene_feistel\r\n",
      "35909e786787        zpencerq/docker-airflow:1.10.2   \"/entrypoint.sh flow…\"   6 months ago        Up 33 seconds       8080/tcp, 0.0.0.0:5555->5555/tcp, 8793/tcp   airflow-data_flower_1\r\n"
     ]
    }
   ],
   "source": [
    "!docker ps"
   ]
  },
  {
   "cell_type": "markdown",
   "metadata": {},
   "source": [
    "`uname -a` nos va a mostrar que container y host están compartiendo el kernel  \n",
    "Salgamos de la sesión de Terminal"
   ]
  },
  {
   "cell_type": "markdown",
   "metadata": {},
   "source": [
    "### Corramos un servicio (foreground)"
   ]
  },
  {
   "cell_type": "code",
   "execution_count": null,
   "metadata": {
    "pycharm": {
     "is_executing": true
    }
   },
   "outputs": [
    {
     "name": "stdout",
     "output_type": "stream",
     "text": [
      "Unable to find image 'nginx:latest' locally\r\n",
      "latest: Pulling from library/nginx\r\n",
      "\r\n",
      "\u001B[1Ba31e96f4: Pulling fs layer \r\n",
      "\u001B[1Be59170f7: Pulling fs layer \r\n",
      "\u001B[1B1ec1d262: Pulling fs layer \r\n",
      "\u001B[1Bff4f210d: Pulling fs layer \r\n",
      "\u001B[1BDigest: sha256:21f32f6c08406306d822a0e6e8b7dc81f53f336570e852e25fbe1e3e3d0d0133\u001B[2K\u001B[4A\u001B[2K\u001B[4A\u001B[2K\u001B[5A\u001B[2K\u001B[4A\u001B[2K\u001B[5A\u001B[2K\u001B[4A\u001B[2K\u001B[5A\u001B[2K\u001B[4A\u001B[2K\u001B[5A\u001B[2K\u001B[4A\u001B[2K\u001B[5A\u001B[2K\u001B[2A\u001B[2K\u001B[4A\u001B[2K\u001B[4A\u001B[2K\u001B[4A\u001B[2K\u001B[5A\u001B[2K\u001B[5A\u001B[2K\u001B[4A\u001B[2K\u001B[4A\u001B[2K\u001B[5A\u001B[2K\u001B[5A\u001B[2K\u001B[5A\u001B[2K\u001B[5A\u001B[2K\u001B[5A\u001B[2K\u001B[5A\u001B[2K\u001B[5A\u001B[2K\u001B[5A\u001B[2K\u001B[5A\u001B[2K\u001B[5A\u001B[2K\u001B[4A\u001B[2K\u001B[1A\u001B[2K\u001B[4A\u001B[2K\u001B[4A\u001B[2K\u001B[4A\u001B[2K\u001B[4A\u001B[2K\u001B[4A\u001B[2K\u001B[3A\u001B[2K\u001B[2A\u001B[2K\u001B[1A\u001B[2K\u001B[1A\u001B[2K\r\n",
      "Status: Downloaded newer image for nginx:latest\r\n",
      "/docker-entrypoint.sh: /docker-entrypoint.d/ is not empty, will attempt to perform configuration\r\n",
      "/docker-entrypoint.sh: Looking for shell scripts in /docker-entrypoint.d/\r\n",
      "/docker-entrypoint.sh: Launching /docker-entrypoint.d/10-listen-on-ipv6-by-default.sh\r\n",
      "10-listen-on-ipv6-by-default.sh: Getting the checksum of /etc/nginx/conf.d/default.conf\r\n",
      "10-listen-on-ipv6-by-default.sh: Enabled listen on IPv6 in /etc/nginx/conf.d/default.conf\r\n",
      "/docker-entrypoint.sh: Launching /docker-entrypoint.d/20-envsubst-on-templates.sh\r\n",
      "/docker-entrypoint.sh: Configuration complete; ready for start up\r\n",
      "172.17.0.1 - - [16/Jun/2020:23:00:31 +0000] \"GET / HTTP/1.1\" 200 612 \"-\" \"curl/7.64.1\" \"-\"\r\n"
     ]
    }
   ],
   "source": [
    "# Terminal~\n",
    "!docker run --publish 80:80 nginx"
   ]
  },
  {
   "cell_type": "code",
   "execution_count": 11,
   "metadata": {},
   "outputs": [
    {
     "name": "stdout",
     "output_type": "stream",
     "text": [
      "<!DOCTYPE html>\r\n",
      "<html>\r\n",
      "<head>\r\n",
      "<title>Welcome to nginx!</title>\r\n",
      "<style>\r\n",
      "    body {\r\n",
      "        width: 35em;\r\n",
      "        margin: 0 auto;\r\n",
      "        font-family: Tahoma, Verdana, Arial, sans-serif;\r\n",
      "    }\r\n",
      "</style>\r\n",
      "</head>\r\n",
      "<body>\r\n",
      "<h1>Welcome to nginx!</h1>\r\n",
      "<p>If you see this page, the nginx web server is successfully installed and\r\n",
      "working. Further configuration is required.</p>\r\n",
      "\r\n",
      "<p>For online documentation and support please refer to\r\n",
      "<a href=\"http://nginx.org/\">nginx.org</a>.<br/>\r\n",
      "Commercial support is available at\r\n",
      "<a href=\"http://nginx.com/\">nginx.com</a>.</p>\r\n",
      "\r\n",
      "<p><em>Thank you for using nginx.</em></p>\r\n",
      "</body>\r\n",
      "</html>\r\n"
     ]
    }
   ],
   "source": [
    "!curl http://localhost"
   ]
  },
  {
   "cell_type": "markdown",
   "metadata": {},
   "source": [
    "Podemos ver todo lo que escribe el servicio  \n",
    "En este caso podemos salir con ^C"
   ]
  },
  {
   "cell_type": "markdown",
   "metadata": {},
   "source": [
    "### Corramos un servicio (detached)"
   ]
  },
  {
   "cell_type": "code",
   "execution_count": 19,
   "metadata": {},
   "outputs": [
    {
     "name": "stdout",
     "output_type": "stream",
     "text": [
      "95a5f8a4c2a9db4117329f8bfcd345ac93e15a65b60e4dcc08b33eada877ba03\n"
     ]
    }
   ],
   "source": [
    "!docker run --detach --publish 80:80 nginx"
   ]
  },
  {
   "cell_type": "code",
   "execution_count": 24,
   "metadata": {},
   "outputs": [
    {
     "name": "stdout",
     "output_type": "stream",
     "text": [
      "CONTAINER ID        IMAGE               COMMAND             CREATED             STATUS              PORTS               NAMES\n"
     ]
    }
   ],
   "source": [
    "!docker ps"
   ]
  },
  {
   "cell_type": "markdown",
   "metadata": {},
   "source": [
    "Si quisieramos ver la salida de nuestro servicio"
   ]
  },
  {
   "cell_type": "code",
   "execution_count": 25,
   "metadata": {},
   "outputs": [
    {
     "name": "stdout",
     "output_type": "stream",
     "text": [
      "172.17.0.1 - - [13/Oct/2019:22:32:01 +0000] \"GET / HTTP/1.1\" 304 0 \"-\" \"Mozilla/5.0 (X11; Linux x86_64) AppleWebKit/537.36 (KHTML, like Gecko) Chrome/77.0.3865.120 Safari/537.36\" \"-\"\n",
      "172.17.0.1 - - [13/Oct/2019:22:32:03 +0000] \"GET / HTTP/1.1\" 304 0 \"-\" \"Mozilla/5.0 (X11; Linux x86_64) AppleWebKit/537.36 (KHTML, like Gecko) Chrome/77.0.3865.120 Safari/537.36\" \"-\"\n",
      "172.17.0.1 - - [13/Oct/2019:22:32:03 +0000] \"GET / HTTP/1.1\" 304 0 \"-\" \"Mozilla/5.0 (X11; Linux x86_64) AppleWebKit/537.36 (KHTML, like Gecko) Chrome/77.0.3865.120 Safari/537.36\" \"-\"\n",
      "172.17.0.1 - - [13/Oct/2019:22:32:03 +0000] \"GET / HTTP/1.1\" 304 0 \"-\" \"Mozilla/5.0 (X11; Linux x86_64) AppleWebKit/537.36 (KHTML, like Gecko) Chrome/77.0.3865.120 Safari/537.36\" \"-\"\n",
      "172.17.0.1 - - [13/Oct/2019:22:32:04 +0000] \"GET / HTTP/1.1\" 304 0 \"-\" \"Mozilla/5.0 (X11; Linux x86_64) AppleWebKit/537.36 (KHTML, like Gecko) Chrome/77.0.3865.120 Safari/537.36\" \"-\"\n",
      "172.17.0.1 - - [13/Oct/2019:22:32:04 +0000] \"GET / HTTP/1.1\" 304 0 \"-\" \"Mozilla/5.0 (X11; Linux x86_64) AppleWebKit/537.36 (KHTML, like Gecko) Chrome/77.0.3865.120 Safari/537.36\" \"-\"\n",
      "172.17.0.1 - - [13/Oct/2019:22:32:04 +0000] \"GET / HTTP/1.1\" 304 0 \"-\" \"Mozilla/5.0 (X11; Linux x86_64) AppleWebKit/537.36 (KHTML, like Gecko) Chrome/77.0.3865.120 Safari/537.36\" \"-\"\n",
      "172.17.0.1 - - [13/Oct/2019:22:32:04 +0000] \"GET / HTTP/1.1\" 304 0 \"-\" \"Mozilla/5.0 (X11; Linux x86_64) AppleWebKit/537.36 (KHTML, like Gecko) Chrome/77.0.3865.120 Safari/537.36\" \"-\"\n",
      "172.17.0.1 - - [13/Oct/2019:22:32:05 +0000] \"GET / HTTP/1.1\" 304 0 \"-\" \"Mozilla/5.0 (X11; Linux x86_64) AppleWebKit/537.36 (KHTML, like Gecko) Chrome/77.0.3865.120 Safari/537.36\" \"-\"\n",
      "172.17.0.1 - - [13/Oct/2019:22:32:05 +0000] \"GET / HTTP/1.1\" 304 0 \"-\" \"Mozilla/5.0 (X11; Linux x86_64) AppleWebKit/537.36 (KHTML, like Gecko) Chrome/77.0.3865.120 Safari/537.36\" \"-\"\n",
      "172.17.0.1 - - [13/Oct/2019:22:32:05 +0000] \"GET / HTTP/1.1\" 304 0 \"-\" \"Mozilla/5.0 (X11; Linux x86_64) AppleWebKit/537.36 (KHTML, like Gecko) Chrome/77.0.3865.120 Safari/537.36\" \"-\"\n",
      "172.17.0.1 - - [13/Oct/2019:22:32:05 +0000] \"GET / HTTP/1.1\" 304 0 \"-\" \"Mozilla/5.0 (X11; Linux x86_64) AppleWebKit/537.36 (KHTML, like Gecko) Chrome/77.0.3865.120 Safari/537.36\" \"-\"\n",
      "172.17.0.1 - - [13/Oct/2019:22:32:05 +0000] \"GET / HTTP/1.1\" 304 0 \"-\" \"Mozilla/5.0 (X11; Linux x86_64) AppleWebKit/537.36 (KHTML, like Gecko) Chrome/77.0.3865.120 Safari/537.36\" \"-\"\n",
      "172.17.0.1 - - [13/Oct/2019:22:32:07 +0000] \"GET / HTTP/1.1\" 304 0 \"-\" \"Mozilla/5.0 (X11; Linux x86_64) AppleWebKit/537.36 (KHTML, like Gecko) Chrome/77.0.3865.120 Safari/537.36\" \"-\"\n",
      "172.17.0.1 - - [13/Oct/2019:22:32:07 +0000] \"GET / HTTP/1.1\" 304 0 \"-\" \"Mozilla/5.0 (X11; Linux x86_64) AppleWebKit/537.36 (KHTML, like Gecko) Chrome/77.0.3865.120 Safari/537.36\" \"-\"\n",
      "172.17.0.1 - - [13/Oct/2019:22:32:07 +0000] \"GET / HTTP/1.1\" 304 0 \"-\" \"Mozilla/5.0 (X11; Linux x86_64) AppleWebKit/537.36 (KHTML, like Gecko) Chrome/77.0.3865.120 Safari/537.36\" \"-\"\n",
      "172.17.0.1 - - [13/Oct/2019:22:32:07 +0000] \"GET / HTTP/1.1\" 304 0 \"-\" \"Mozilla/5.0 (X11; Linux x86_64) AppleWebKit/537.36 (KHTML, like Gecko) Chrome/77.0.3865.120 Safari/537.36\" \"-\"\n"
     ]
    }
   ],
   "source": [
    "!docker logs compassionate_stonebraker"
   ]
  },
  {
   "cell_type": "markdown",
   "metadata": {},
   "source": [
    "### Matando un container"
   ]
  },
  {
   "cell_type": "code",
   "execution_count": 26,
   "metadata": {},
   "outputs": [
    {
     "name": "stdout",
     "output_type": "stream",
     "text": [
      "compassionate_stonebraker\n"
     ]
    }
   ],
   "source": [
    "!docker stop compassionate_stonebraker"
   ]
  },
  {
   "cell_type": "markdown",
   "metadata": {},
   "source": [
    "### Nombrando containers"
   ]
  },
  {
   "cell_type": "code",
   "execution_count": 27,
   "metadata": {},
   "outputs": [
    {
     "name": "stdout",
     "output_type": "stream",
     "text": [
      "4962a413a65571e700097ecc51ae6a5c33361abbd4230b4dd9079430c1776099\n"
     ]
    }
   ],
   "source": [
    "!docker run --detach --publish 80:80 --name webserver nginx"
   ]
  },
  {
   "cell_type": "code",
   "execution_count": 40,
   "metadata": {},
   "outputs": [
    {
     "name": "stdout",
     "output_type": "stream",
     "text": [
      "CONTAINER ID        IMAGE               COMMAND                  CREATED             STATUS              PORTS                NAMES\n",
      "78d335115a76        nginx               \"nginx -g 'daemon of…\"   9 seconds ago       Up 7 seconds        0.0.0.0:80->80/tcp   webserver\n"
     ]
    }
   ],
   "source": [
    "!docker ps"
   ]
  },
  {
   "cell_type": "markdown",
   "metadata": {},
   "source": [
    "### Matar un container con su nombre es más fácil"
   ]
  },
  {
   "cell_type": "code",
   "execution_count": 30,
   "metadata": {},
   "outputs": [
    {
     "name": "stdout",
     "output_type": "stream",
     "text": [
      "webserver\n"
     ]
    }
   ],
   "source": [
    "!docker stop webserver"
   ]
  },
  {
   "cell_type": "markdown",
   "metadata": {},
   "source": [
    "### ¿Que pasa si quiero levantar un container con el mismo nombre?"
   ]
  },
  {
   "cell_type": "code",
   "execution_count": 31,
   "metadata": {},
   "outputs": [
    {
     "name": "stdout",
     "output_type": "stream",
     "text": [
      "docker: Error response from daemon: Conflict. The container name \"/webserver\" is already in use by container \"4962a413a65571e700097ecc51ae6a5c33361abbd4230b4dd9079430c1776099\". You have to remove (or rename) that container to be able to reuse that name.\n",
      "See 'docker run --help'.\n"
     ]
    }
   ],
   "source": [
    "!docker run --detach --publish 80:80 --name webserver nginx"
   ]
  },
  {
   "cell_type": "code",
   "execution_count": 38,
   "metadata": {},
   "outputs": [
    {
     "name": "stdout",
     "output_type": "stream",
     "text": [
      "CONTAINER ID        IMAGE               COMMAND                  CREATED             STATUS                      PORTS               NAMES\n",
      "95a5f8a4c2a9        nginx               \"nginx -g 'daemon of…\"   20 minutes ago      Exited (0) 2 minutes ago                        compassionate_stonebraker\n",
      "055e1ab008ad        nginx               \"nginx -g 'daemon of…\"   22 minutes ago      Exited (0) 21 minutes ago                       busy_mirzakhani\n",
      "17c7056cb03d        ubuntu              \"bash\"                   28 minutes ago      Exited (0) 26 minutes ago                       loving_kirch\n",
      "0c62693e97f8        hello-world:linux   \"/hello\"                 34 minutes ago      Exited (0) 34 minutes ago                       epic_khorana\n",
      "087c993c8615        hello-world         \"/hello\"                 35 minutes ago      Exited (0) 35 minutes ago                       quirky_poincare\n",
      "42f88d4c4c35        hello-world         \"/hello\"                 36 minutes ago      Exited (0) 36 minutes ago                       thirsty_heyrovsky\n"
     ]
    }
   ],
   "source": [
    "!docker container ls --all"
   ]
  },
  {
   "cell_type": "code",
   "execution_count": 37,
   "metadata": {},
   "outputs": [
    {
     "name": "stdout",
     "output_type": "stream",
     "text": [
      "Error: No such container: webserver\n"
     ]
    }
   ],
   "source": [
    "# !docker container rm webserver\n",
    "!docker rm webserver"
   ]
  },
  {
   "cell_type": "markdown",
   "metadata": {},
   "source": [
    "### O la próxima vez que lo corramos le decimos que lo borre cuando termine con --rm"
   ]
  },
  {
   "cell_type": "code",
   "execution_count": 39,
   "metadata": {},
   "outputs": [
    {
     "name": "stdout",
     "output_type": "stream",
     "text": [
      "78d335115a761010876b20b8c2c1414d357b1f119b4b0024ed2bdea609e4662e\n"
     ]
    }
   ],
   "source": [
    "!docker run --rm --detach --publish 80:80 --name webserver nginx"
   ]
  },
  {
   "cell_type": "code",
   "execution_count": 41,
   "metadata": {},
   "outputs": [
    {
     "name": "stdout",
     "output_type": "stream",
     "text": [
      "webserver\n"
     ]
    }
   ],
   "source": [
    "!docker stop webserver"
   ]
  },
  {
   "cell_type": "code",
   "execution_count": 42,
   "metadata": {},
   "outputs": [
    {
     "name": "stdout",
     "output_type": "stream",
     "text": [
      "CONTAINER ID        IMAGE               COMMAND                  CREATED             STATUS                      PORTS               NAMES\n",
      "95a5f8a4c2a9        nginx               \"nginx -g 'daemon of…\"   21 minutes ago      Exited (0) 3 minutes ago                        compassionate_stonebraker\n",
      "055e1ab008ad        nginx               \"nginx -g 'daemon of…\"   23 minutes ago      Exited (0) 22 minutes ago                       busy_mirzakhani\n",
      "17c7056cb03d        ubuntu              \"bash\"                   29 minutes ago      Exited (0) 27 minutes ago                       loving_kirch\n",
      "0c62693e97f8        hello-world:linux   \"/hello\"                 35 minutes ago      Exited (0) 35 minutes ago                       epic_khorana\n",
      "087c993c8615        hello-world         \"/hello\"                 36 minutes ago      Exited (0) 36 minutes ago                       quirky_poincare\n",
      "42f88d4c4c35        hello-world         \"/hello\"                 37 minutes ago      Exited (0) 37 minutes ago                       thirsty_heyrovsky\n"
     ]
    }
   ],
   "source": [
    "!docker container ls --all"
   ]
  },
  {
   "cell_type": "markdown",
   "metadata": {},
   "source": [
    "### ¿Puedo levantar dos containers desde la misma imagen?"
   ]
  },
  {
   "cell_type": "code",
   "execution_count": 43,
   "metadata": {},
   "outputs": [
    {
     "name": "stdout",
     "output_type": "stream",
     "text": [
      "c3580890d3c83d3da9bee4e49bdb1649e193af95a396ef91ed9c119038876cc1\n"
     ]
    }
   ],
   "source": [
    "# Container #1\n",
    "!docker run --rm --detach --publish 80:80 --name webserver1 nginx"
   ]
  },
  {
   "cell_type": "markdown",
   "metadata": {},
   "source": [
    "### Con otro nombre..."
   ]
  },
  {
   "cell_type": "code",
   "execution_count": 44,
   "metadata": {},
   "outputs": [
    {
     "name": "stdout",
     "output_type": "stream",
     "text": [
      "docker: Error response from daemon: Conflict. The container name \"/webserver1\" is already in use by container \"c3580890d3c83d3da9bee4e49bdb1649e193af95a396ef91ed9c119038876cc1\". You have to remove (or rename) that container to be able to reuse that name.\n",
      "See 'docker run --help'.\n"
     ]
    }
   ],
   "source": [
    "!docker run --rm --detach --publish 80:80 --name webserver1 nginx"
   ]
  },
  {
   "cell_type": "code",
   "execution_count": 45,
   "metadata": {},
   "outputs": [
    {
     "name": "stdout",
     "output_type": "stream",
     "text": [
      "ee98fc2b8be782e8fbde3c2ae76383ea9f558d672c3eea8741249a99e5a10b56\n",
      "docker: Error response from daemon: driver failed programming external connectivity on endpoint webserver2 (33deebef41079c37a1c321af58f6daae4d4ab2be11406f6d9c512b4c10a2ac03): Bind for 0.0.0.0:80 failed: port is already allocated.\n"
     ]
    }
   ],
   "source": [
    "!docker run --rm --detach --publish 80:80 --name webserver2 nginx"
   ]
  },
  {
   "cell_type": "markdown",
   "metadata": {},
   "source": [
    "### Y en otro puerto..."
   ]
  },
  {
   "cell_type": "code",
   "execution_count": 46,
   "metadata": {},
   "outputs": [
    {
     "name": "stdout",
     "output_type": "stream",
     "text": [
      "6def87aa215151a34585f41c6cee4f6162b9f445f55f6cb7d4b171e5b41d8a3a\n"
     ]
    }
   ],
   "source": [
    "# Container #2\n",
    "!docker run --rm --detach --publish 81:80 --name webserver2 nginx"
   ]
  },
  {
   "cell_type": "code",
   "execution_count": 47,
   "metadata": {},
   "outputs": [
    {
     "name": "stdout",
     "output_type": "stream",
     "text": [
      "CONTAINER ID        IMAGE               COMMAND                  CREATED             STATUS              PORTS                NAMES\n",
      "6def87aa2151        nginx               \"nginx -g 'daemon of…\"   4 seconds ago       Up 3 seconds        0.0.0.0:81->80/tcp   webserver2\n",
      "c3580890d3c8        nginx               \"nginx -g 'daemon of…\"   54 seconds ago      Up 53 seconds       0.0.0.0:80->80/tcp   webserver1\n"
     ]
    }
   ],
   "source": [
    "# Dos servidores web corriendo en esta máquina\n",
    "!docker ps"
   ]
  },
  {
   "cell_type": "code",
   "execution_count": null,
   "metadata": {},
   "outputs": [],
   "source": [
    "!curl http://localhost:81"
   ]
  },
  {
   "cell_type": "markdown",
   "metadata": {},
   "source": [
    "### No hay dos sin tres"
   ]
  },
  {
   "cell_type": "code",
   "execution_count": 48,
   "metadata": {},
   "outputs": [
    {
     "name": "stdout",
     "output_type": "stream",
     "text": [
      "ad96f0c6710ac55f9f95c07a936423a5e7fd12be758e9983e5ce387ca659acd8\n"
     ]
    }
   ],
   "source": [
    "!docker run --rm --detach --publish 82:80 --name webserver3 nginx"
   ]
  },
  {
   "cell_type": "code",
   "execution_count": 49,
   "metadata": {},
   "outputs": [
    {
     "name": "stdout",
     "output_type": "stream",
     "text": [
      "CONTAINER ID        IMAGE               COMMAND                  CREATED              STATUS                  PORTS                NAMES\n",
      "ad96f0c6710a        nginx               \"nginx -g 'daemon of…\"   2 seconds ago        Up Less than a second   0.0.0.0:82->80/tcp   webserver3\n",
      "6def87aa2151        nginx               \"nginx -g 'daemon of…\"   50 seconds ago       Up 49 seconds           0.0.0.0:81->80/tcp   webserver2\n",
      "c3580890d3c8        nginx               \"nginx -g 'daemon of…\"   About a minute ago   Up About a minute       0.0.0.0:80->80/tcp   webserver1\n"
     ]
    }
   ],
   "source": [
    "!docker ps"
   ]
  },
  {
   "cell_type": "markdown",
   "metadata": {},
   "source": [
    "### ¿Cuanta memoria ocupa todo eso?"
   ]
  },
  {
   "cell_type": "code",
   "execution_count": 50,
   "metadata": {},
   "outputs": [
    {
     "name": "stdout",
     "output_type": "stream",
     "text": [
      "CONTAINER ID        NAME                CPU %               MEM USAGE / LIMIT     MEM %               NET I/O             BLOCK I/O           PIDS\n",
      "ad96f0c6710a        webserver3          0.00%               2.32MiB / 11.63GiB    0.02%               2.74kB / 0B         0B / 0B             2\n",
      "6def87aa2151        webserver2          0.00%               2.355MiB / 11.63GiB   0.02%               6.81kB / 2.15kB     0B / 0B             2\n",
      "c3580890d3c8        webserver1          0.00%               2.375MiB / 11.63GiB   0.02%               4.41kB / 364B       0B / 0B             2\n"
     ]
    }
   ],
   "source": [
    "!docker stats --no-stream"
   ]
  },
  {
   "cell_type": "code",
   "execution_count": null,
   "metadata": {},
   "outputs": [],
   "source": [
    "# Terminal\n",
    "!docker stop <TAB>"
   ]
  },
  {
   "cell_type": "markdown",
   "metadata": {},
   "source": [
    "# 2- Construcción de una imagen"
   ]
  },
  {
   "cell_type": "markdown",
   "metadata": {},
   "source": [
    "Volvamos a la presentación para ver como se construye una imagen"
   ]
  },
  {
   "cell_type": "markdown",
   "metadata": {},
   "source": [
    "API muy sencilla en Flask"
   ]
  },
  {
   "cell_type": "code",
   "execution_count": 52,
   "metadata": {},
   "outputs": [
    {
     "name": "stdout",
     "output_type": "stream",
     "text": [
      "Flask"
     ]
    }
   ],
   "source": [
    "!cat requirements.txt"
   ]
  },
  {
   "cell_type": "code",
   "execution_count": 53,
   "metadata": {},
   "outputs": [
    {
     "name": "stdout",
     "output_type": "stream",
     "text": [
      "Requirement already satisfied: Flask in /home/ramiro/bin/anaconda3/lib/python3.6/site-packages (from -r requirements.txt (line 1)) (1.0.2)\n",
      "Requirement already satisfied: click>=5.1 in /home/ramiro/bin/anaconda3/lib/python3.6/site-packages (from Flask->-r requirements.txt (line 1)) (6.7)\n",
      "Requirement already satisfied: Jinja2>=2.10 in /home/ramiro/bin/anaconda3/lib/python3.6/site-packages (from Flask->-r requirements.txt (line 1)) (2.10)\n",
      "Requirement already satisfied: itsdangerous>=0.24 in /home/ramiro/bin/anaconda3/lib/python3.6/site-packages (from Flask->-r requirements.txt (line 1)) (0.24)\n",
      "Requirement already satisfied: Werkzeug>=0.14 in /home/ramiro/bin/anaconda3/lib/python3.6/site-packages (from Flask->-r requirements.txt (line 1)) (0.14.1)\n",
      "Requirement already satisfied: MarkupSafe>=0.23 in /home/ramiro/bin/anaconda3/lib/python3.6/site-packages (from Jinja2>=2.10->Flask->-r requirements.txt (line 1)) (1.0)\n"
     ]
    }
   ],
   "source": [
    "!pip install -r requirements.txt"
   ]
  },
  {
   "cell_type": "code",
   "execution_count": null,
   "metadata": {},
   "outputs": [],
   "source": [
    "# Terminal\n",
    "!python app.py"
   ]
  },
  {
   "cell_type": "code",
   "execution_count": null,
   "metadata": {},
   "outputs": [],
   "source": [
    "!curl http://localhost:5000"
   ]
  },
  {
   "cell_type": "code",
   "execution_count": 54,
   "metadata": {},
   "outputs": [
    {
     "name": "stdout",
     "output_type": "stream",
     "text": [
      "# Imagen padre desde la que vamos a heredar. Podriamos usar otra?\n",
      "FROM python:3.6\n",
      "\n",
      "# Directorio adentro del container en donde vamos a trabajar\n",
      "# Es como hacer un cd, sino estariamos trabajando en el /\n",
      "WORKDIR /app\n",
      "\n",
      "# Contexto: Copia todo el contenido de este directerio adentro del container en la carpeta /app\n",
      "COPY . /app\n",
      "\n",
      "# Correr un comando, en este caso para instalar las dependencias en requirements.txt\n",
      "RUN pip install -r requirements.txt\n",
      "\n",
      "# Abre el puerto 5000 del container\n",
      "EXPOSE 5000\n",
      "\n",
      "# Cuando el container se lance va a ejecutar este comando\n",
      "CMD [\"python\", \"app.py\"]"
     ]
    }
   ],
   "source": [
    "!cat Dockerfile"
   ]
  },
  {
   "cell_type": "code",
   "execution_count": 59,
   "metadata": {},
   "outputs": [
    {
     "name": "stdout",
     "output_type": "stream",
     "text": [
      "Sending build context to Docker daemon  92.16kB\n",
      "Step 1/6 : FROM python:3.6\n",
      "3.6: Pulling from library/python\n",
      "\n",
      "\u001B[1B\n",
      "\u001B[1B\n",
      "\u001B[1B\n",
      "\u001B[1B\n",
      "\u001B[1B\n",
      "\u001B[1B\n",
      "\u001B[1B\n",
      "\u001B[1B\n",
      "\u001B[1BDigest: sha256:fcade19d811329e1680defe80ac2738411d637e311d337ef9753e5601e40676e\n",
      "Status: Downloaded newer image for python:3.6\n",
      " ---> a08c6226131a\n",
      "Step 2/6 : WORKDIR /app\n",
      " ---> Running in 6767a51941f7\n",
      "Removing intermediate container 6767a51941f7\n",
      " ---> 7d900b2a58ea\n",
      "Step 3/6 : COPY . /app\n",
      " ---> 636eec7ef45a\n",
      "Step 4/6 : RUN pip install -r requirements.txt\n",
      " ---> Running in 84ff4d0558a7\n",
      "Collecting Flask (from -r requirements.txt (line 1))\n",
      "  Downloading https://files.pythonhosted.org/packages/9b/93/628509b8d5dc749656a9641f4caf13540e2cdec85276964ff8f43bbb1d3b/Flask-1.1.1-py2.py3-none-any.whl (94kB)\n",
      "Collecting itsdangerous>=0.24 (from Flask->-r requirements.txt (line 1))\n",
      "  Downloading https://files.pythonhosted.org/packages/76/ae/44b03b253d6fade317f32c24d100b3b35c2239807046a4c953c7b89fa49e/itsdangerous-1.1.0-py2.py3-none-any.whl\n",
      "Collecting click>=5.1 (from Flask->-r requirements.txt (line 1))\n",
      "  Downloading https://files.pythonhosted.org/packages/fa/37/45185cb5abbc30d7257104c434fe0b07e5a195a6847506c074527aa599ec/Click-7.0-py2.py3-none-any.whl (81kB)\n",
      "Collecting Werkzeug>=0.15 (from Flask->-r requirements.txt (line 1))\n",
      "  Downloading https://files.pythonhosted.org/packages/ce/42/3aeda98f96e85fd26180534d36570e4d18108d62ae36f87694b476b83d6f/Werkzeug-0.16.0-py2.py3-none-any.whl (327kB)\n",
      "Collecting Jinja2>=2.10.1 (from Flask->-r requirements.txt (line 1))\n",
      "  Downloading https://files.pythonhosted.org/packages/65/e0/eb35e762802015cab1ccee04e8a277b03f1d8e53da3ec3106882ec42558b/Jinja2-2.10.3-py2.py3-none-any.whl (125kB)\n",
      "Collecting MarkupSafe>=0.23 (from Jinja2>=2.10.1->Flask->-r requirements.txt (line 1))\n",
      "  Downloading https://files.pythonhosted.org/packages/b2/5f/23e0023be6bb885d00ffbefad2942bc51a620328ee910f64abe5a8d18dd1/MarkupSafe-1.1.1-cp36-cp36m-manylinux1_x86_64.whl\n",
      "Installing collected packages: itsdangerous, click, Werkzeug, MarkupSafe, Jinja2, Flask\n",
      "Successfully installed Flask-1.1.1 Jinja2-2.10.3 MarkupSafe-1.1.1 Werkzeug-0.16.0 click-7.0 itsdangerous-1.1.0\n",
      "Removing intermediate container 84ff4d0558a7\n",
      " ---> 83fb7bad5628\n",
      "Step 5/6 : EXPOSE 5000\n",
      " ---> Running in 5d504125def3\n",
      "Removing intermediate container 5d504125def3\n",
      " ---> 9594acab9f64\n",
      "Step 6/6 : CMD [\"python\", \"app.py\"]\n",
      " ---> Running in 06c7b2e7b877\n",
      "Removing intermediate container 06c7b2e7b877\n",
      " ---> 7fa1ae314d60\n",
      "Successfully built 7fa1ae314d60\n",
      "Successfully tagged flask:latest\n"
     ]
    }
   ],
   "source": [
    "!docker build --tag=flask . "
   ]
  },
  {
   "cell_type": "code",
   "execution_count": 12,
   "metadata": {},
   "outputs": [
    {
     "name": "stdout",
     "output_type": "stream",
     "text": [
      "REPOSITORY                TAG                 IMAGE ID            CREATED             SIZE\r\n",
      "flask                     latest              68d446f1d317        35 seconds ago      924MB\r\n",
      "python                    3.6                 13efce2de907        7 days ago          914MB\r\n",
      "nginx                     latest              2622e6cca7eb        7 days ago          132MB\r\n",
      "ubuntu                    latest              1d622ef86b13        7 weeks ago         73.9MB\r\n",
      "hello-world               latest              bf756fb1ae65        5 months ago        13.3kB\r\n",
      "hello-world               linux               bf756fb1ae65        5 months ago        13.3kB\r\n",
      "postgres                  9.6                 1ac5eccdbc65        6 months ago        250MB\r\n",
      "zpencerq/docker-airflow   1.10.2              18ccf183a3b7        16 months ago       836MB\r\n",
      "uber/ssh-agent-forward    latest              37e4f49b0353        2 years ago         11.6MB\r\n",
      "redis                     3.2.7               74d8f543ac97        3 years ago         184MB\r\n"
     ]
    }
   ],
   "source": [
    "!docker images"
   ]
  },
  {
   "cell_type": "code",
   "execution_count": null,
   "metadata": {},
   "outputs": [],
   "source": [
    "# Terminal\n",
    "!docker run --name server --rm --publish 80:5000 flask"
   ]
  },
  {
   "cell_type": "markdown",
   "metadata": {},
   "source": [
    "El container \"cree\" que está en el puerto 5000"
   ]
  },
  {
   "cell_type": "code",
   "execution_count": 1,
   "metadata": {},
   "outputs": [
    {
     "name": "stdout",
     "output_type": "stream",
     "text": [
      "{\r\n",
      "  \"message\": \"Hello! I'm inside a container\"\r\n",
      "}\r\n"
     ]
    }
   ],
   "source": [
    "!curl http://localhost"
   ]
  },
  {
   "cell_type": "code",
   "execution_count": null,
   "metadata": {
    "pycharm": {
     "is_executing": true
    }
   },
   "outputs": [],
   "source": [
    "!curl http://localhost:5000"
   ]
  },
  {
   "cell_type": "markdown",
   "metadata": {},
   "source": [
    "### Inspeccionemos el container que está corriendo"
   ]
  },
  {
   "cell_type": "code",
   "execution_count": null,
   "metadata": {},
   "outputs": [],
   "source": [
    "# Terminal\n",
    "# Loguea en /app\n",
    "# ls\n",
    "# uname -a comparten kernel con el host\n",
    "!docker exec --interactive --tty server bash"
   ]
  },
  {
   "cell_type": "markdown",
   "metadata": {},
   "source": [
    "### Publiquemos la imagen"
   ]
  },
  {
   "cell_type": "markdown",
   "metadata": {},
   "source": [
    "Hay que registrase en https://hub.docker.com  \n",
    "Con eso van a tener habilitado un perfil en donde van a poder tener repositorios de imagenes https://hub.docker.com/u/rsavoie"
   ]
  },
  {
   "cell_type": "code",
   "execution_count": 58,
   "metadata": {},
   "outputs": [
    {
     "name": "stdout",
     "output_type": "stream",
     "text": [
      "Authenticating with existing credentials...\n",
      "WARNING! Your password will be stored unencrypted in /home/ramiro/.docker/config.json.\n",
      "Configure a credential helper to remove this warning. See\n",
      "https://docs.docker.com/engine/reference/commandline/login/#credentials-store\n",
      "\n",
      "Login Succeeded\n"
     ]
    }
   ],
   "source": [
    "!docker login"
   ]
  },
  {
   "cell_type": "code",
   "execution_count": 69,
   "metadata": {},
   "outputs": [],
   "source": [
    "# docker tag SOURCE_IMAGE[:TAG] TARGET_IMAGE[:TAG]\n",
    "# flask:imagen local rsavoie:repositorio flask:imagen remota :latest\n",
    "!docker tag flask rsavoie/flask"
   ]
  },
  {
   "cell_type": "code",
   "execution_count": 70,
   "metadata": {},
   "outputs": [
    {
     "name": "stdout",
     "output_type": "stream",
     "text": [
      "REPOSITORY          TAG                 IMAGE ID            CREATED             SIZE\n",
      "rsavoie/flask       latest              7fa1ae314d60        3 minutes ago       923MB\n",
      "flask               latest              7fa1ae314d60        3 minutes ago       923MB\n",
      "python              3.6                 a08c6226131a        4 weeks ago         913MB\n"
     ]
    }
   ],
   "source": [
    "!docker images"
   ]
  },
  {
   "cell_type": "code",
   "execution_count": 71,
   "metadata": {},
   "outputs": [
    {
     "name": "stdout",
     "output_type": "stream",
     "text": [
      "The push refers to repository [docker.io/rsavoie/flask]\n",
      "\n",
      "\u001B[1B\n",
      "\u001B[1B\n",
      "\u001B[1B\n",
      "\u001B[1B\n",
      "\u001B[1B\n",
      "\u001B[1B\n",
      "\u001B[1B\n",
      "\u001B[1B\n",
      "\u001B[1B\n",
      "\u001B[1B\n",
      "\u001B[1B\n",
      "\u001B[2Blatest: digest: sha256:03eaa77f3082020df71c348f35686983b7922fdace0b6a34a669cdeb8b195d97 size: 2844\n"
     ]
    }
   ],
   "source": [
    "!docker push rsavoie/flask"
   ]
  },
  {
   "cell_type": "markdown",
   "metadata": {},
   "source": [
    "¿Les suena familiar esa dinámica de tag / push?"
   ]
  },
  {
   "cell_type": "markdown",
   "metadata": {},
   "source": [
    "## Beanstalk"
   ]
  },
  {
   "cell_type": "code",
   "execution_count": 74,
   "metadata": {},
   "outputs": [
    {
     "name": "stdout",
     "output_type": "stream",
     "text": [
      "REPOSITORY          TAG                 IMAGE ID            CREATED             SIZE\n",
      "flask               latest              7fa1ae314d60        4 minutes ago       923MB\n",
      "rsavoie/flask       latest              7fa1ae314d60        4 minutes ago       923MB\n",
      "python              3.6                 a08c6226131a        4 weeks ago         913MB\n"
     ]
    }
   ],
   "source": [
    "# Chequear el tamaño de la imagem\n",
    "!docker images"
   ]
  },
  {
   "cell_type": "code",
   "execution_count": 75,
   "metadata": {},
   "outputs": [
    {
     "name": "stdout",
     "output_type": "stream",
     "text": [
      "Error response from daemon: No such container: flask\n"
     ]
    }
   ],
   "source": [
    "!docker stats flask --no-stream"
   ]
  },
  {
   "cell_type": "markdown",
   "metadata": {},
   "source": [
    "Zippeamos todo el código + el Dockerfile  \n",
    "Creamos una nueva aplicación en Beanstalk con el zip  \n",
    "Podemos inspeccionar Buckets, SecurityGroups, EIPs  \n",
    "Probemos el servicio en la URL pública asignada  \n",
    "http://flask-app.nzrxgehhhp.us-west-2.elasticbeanstalk.com/\n",
    "Revisemos Configuration -> Software  \n",
    "Leamos una variable de entorno en el /"
   ]
  },
  {
   "cell_type": "code",
   "execution_count": null,
   "metadata": {},
   "outputs": [],
   "source": [
    "f\"Hello! I'm inside a container in {os.environ.get('ENVIRONMENT')}\""
   ]
  },
  {
   "cell_type": "code",
   "execution_count": null,
   "metadata": {},
   "outputs": [],
   "source": [
    "!curl http://localhost:5000"
   ]
  },
  {
   "cell_type": "code",
   "execution_count": null,
   "metadata": {},
   "outputs": [],
   "source": [
    "!docker run --rm -p 5000:5000 --name flask -e ENVIRONMENT=local flask"
   ]
  },
  {
   "cell_type": "code",
   "execution_count": null,
   "metadata": {},
   "outputs": [],
   "source": [
    "!curl http://localhost:5000"
   ]
  }
 ],
 "metadata": {
  "kernelspec": {
   "display_name": "Python 3",
   "language": "python",
   "name": "python3"
  },
  "language_info": {
   "codemirror_mode": {
    "name": "ipython",
    "version": 3
   },
   "file_extension": ".py",
   "mimetype": "text/x-python",
   "name": "python",
   "nbconvert_exporter": "python",
   "pygments_lexer": "ipython3",
   "version": "3.6.4"
  }
 },
 "nbformat": 4,
 "nbformat_minor": 2
}