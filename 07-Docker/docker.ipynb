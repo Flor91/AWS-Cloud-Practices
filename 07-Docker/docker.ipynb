{
 "cells": [
  {
   "cell_type": "markdown",
   "metadata": {},
   "source": [
    "# Introducción a Docker\n",
    "### Comandos básicos"
   ]
  },
  {
   "cell_type": "code",
   "execution_count": 1,
   "metadata": {},
   "outputs": [],
   "source": [
    "import os"
   ]
  },
  {
   "cell_type": "code",
   "execution_count": 2,
   "metadata": {},
   "outputs": [
    {
     "name": "stdout",
     "output_type": "stream",
     "text": [
      "\r\n",
      "Usage:\tdocker [OPTIONS] COMMAND\r\n",
      "\r\n",
      "A self-sufficient runtime for containers\r\n",
      "\r\n",
      "Options:\r\n",
      "      --config string      Location of client config files (default\r\n",
      "                           \"/Users/florenciasilvestre/.docker\")\r\n",
      "  -c, --context string     Name of the context to use to connect to the\r\n",
      "                           daemon (overrides DOCKER_HOST env var and\r\n",
      "                           default context set with \"docker context use\")\r\n",
      "  -D, --debug              Enable debug mode\r\n",
      "  -H, --host list          Daemon socket(s) to connect to\r\n",
      "  -l, --log-level string   Set the logging level\r\n",
      "                           (\"debug\"|\"info\"|\"warn\"|\"error\"|\"fatal\")\r\n",
      "                           (default \"info\")\r\n",
      "      --tls                Use TLS; implied by --tlsverify\r\n",
      "      --tlscacert string   Trust certs signed only by this CA (default\r\n",
      "                           \"/Users/florenciasilvestre/.docker/ca.pem\")\r\n",
      "      --tlscert string     Path to TLS certificate file (default\r\n",
      "                           \"/Users/florenciasilvestre/.docker/cert.pem\")\r\n",
      "      --tlskey string      Path to TLS key file (default\r\n",
      "                           \"/Users/florenciasilvestre/.docker/key.pem\")\r\n",
      "      --tlsverify          Use TLS and verify the remote\r\n",
      "  -v, --version            Print version information and quit\r\n",
      "\r\n",
      "Management Commands:\r\n",
      "  builder     Manage builds\r\n",
      "  config      Manage Docker configs\r\n",
      "  container   Manage containers\r\n",
      "  context     Manage contexts\r\n",
      "  image       Manage images\r\n",
      "  network     Manage networks\r\n",
      "  node        Manage Swarm nodes\r\n",
      "  plugin      Manage plugins\r\n",
      "  secret      Manage Docker secrets\r\n",
      "  service     Manage services\r\n",
      "  stack       Manage Docker stacks\r\n",
      "  swarm       Manage Swarm\r\n",
      "  system      Manage Docker\r\n",
      "  trust       Manage trust on Docker images\r\n",
      "  volume      Manage volumes\r\n",
      "\r\n",
      "Commands:\r\n",
      "  attach      Attach local standard input, output, and error streams to a running container\r\n",
      "  build       Build an image from a Dockerfile\r\n",
      "  commit      Create a new image from a container's changes\r\n",
      "  cp          Copy files/folders between a container and the local filesystem\r\n",
      "  create      Create a new container\r\n",
      "  deploy      Deploy a new stack or update an existing stack\r\n",
      "  diff        Inspect changes to files or directories on a container's filesystem\r\n",
      "  events      Get real time events from the server\r\n",
      "  exec        Run a command in a running container\r\n",
      "  export      Export a container's filesystem as a tar archive\r\n",
      "  history     Show the history of an image\r\n",
      "  images      List images\r\n",
      "  import      Import the contents from a tarball to create a filesystem image\r\n",
      "  info        Display system-wide information\r\n",
      "  inspect     Return low-level information on Docker objects\r\n",
      "  kill        Kill one or more running containers\r\n",
      "  load        Load an image from a tar archive or STDIN\r\n",
      "  login       Log in to a Docker registry\r\n",
      "  logout      Log out from a Docker registry\r\n",
      "  logs        Fetch the logs of a container\r\n",
      "  pause       Pause all processes within one or more containers\r\n",
      "  port        List port mappings or a specific mapping for the container\r\n",
      "  ps          List containers\r\n",
      "  pull        Pull an image or a repository from a registry\r\n",
      "  push        Push an image or a repository to a registry\r\n",
      "  rename      Rename a container\r\n",
      "  restart     Restart one or more containers\r\n",
      "  rm          Remove one or more containers\r\n",
      "  rmi         Remove one or more images\r\n",
      "  run         Run a command in a new container\r\n",
      "  save        Save one or more images to a tar archive (streamed to STDOUT by default)\r\n",
      "  search      Search the Docker Hub for images\r\n",
      "  start       Start one or more stopped containers\r\n",
      "  stats       Display a live stream of container(s) resource usage statistics\r\n",
      "  stop        Stop one or more running containers\r\n",
      "  tag         Create a tag TARGET_IMAGE that refers to SOURCE_IMAGE\r\n",
      "  top         Display the running processes of a container\r\n",
      "  unpause     Unpause all processes within one or more containers\r\n",
      "  update      Update configuration of one or more containers\r\n",
      "  version     Show the Docker version information\r\n",
      "  wait        Block until one or more containers stop, then print their exit codes\r\n",
      "\r\n",
      "Run 'docker COMMAND --help' for more information on a command.\r\n"
     ]
    }
   ],
   "source": [
    "!docker"
   ]
  },
  {
   "cell_type": "code",
   "execution_count": 5,
   "metadata": {},
   "outputs": [
    {
     "name": "stdout",
     "output_type": "stream",
     "text": [
      "Client: Docker Engine - Community\r\n",
      " Version:           19.03.8\r\n",
      " API version:       1.40\r\n",
      " Go version:        go1.12.17\r\n",
      " Git commit:        afacb8b\r\n",
      " Built:             Wed Mar 11 01:21:11 2020\r\n",
      " OS/Arch:           darwin/amd64\r\n",
      " Experimental:      false\r\n",
      "\r\n",
      "Server: Docker Engine - Community\r\n",
      " Engine:\r\n",
      "  Version:          19.03.8\r\n",
      "  API version:      1.40 (minimum version 1.12)\r\n",
      "  Go version:       go1.12.17\r\n",
      "  Git commit:       afacb8b\r\n",
      "  Built:            Wed Mar 11 01:29:16 2020\r\n",
      "  OS/Arch:          linux/amd64\r\n",
      "  Experimental:     false\r\n",
      " containerd:\r\n",
      "  Version:          v1.2.13\r\n",
      "  GitCommit:        7ad184331fa3e55e52b890ea95e65ba581ae3429\r\n",
      " runc:\r\n",
      "  Version:          1.0.0-rc10\r\n",
      "  GitCommit:        dc9208a3303feef5b3839f4323d9beb36df0a9dd\r\n",
      " docker-init:\r\n",
      "  Version:          0.18.0\r\n",
      "  GitCommit:        fec3683\r\n"
     ]
    }
   ],
   "source": [
    "!docker version"
   ]
  },
  {
   "cell_type": "markdown",
   "metadata": {},
   "source": [
    "- Cliente / Servidor\n",
    "- Deberian coincidir las versiones de API - Tener cuidado con las actualizaciones.\n",
    "\n",
    "Vamos a correr nuestro primer contenedor de docker:"
   ]
  },
  {
   "cell_type": "code",
   "execution_count": 6,
   "metadata": {},
   "outputs": [
    {
     "name": "stdout",
     "output_type": "stream",
     "text": [
      "\r\n",
      "Hello from Docker!\r\n",
      "This message shows that your installation appears to be working correctly.\r\n",
      "\r\n",
      "To generate this message, Docker took the following steps:\r\n",
      " 1. The Docker client contacted the Docker daemon.\r\n",
      " 2. The Docker daemon pulled the \"hello-world\" image from the Docker Hub.\r\n",
      "    (amd64)\r\n",
      " 3. The Docker daemon created a new container from that image which runs the\r\n",
      "    executable that produces the output you are currently reading.\r\n",
      " 4. The Docker daemon streamed that output to the Docker client, which sent it\r\n",
      "    to your terminal.\r\n",
      "\r\n",
      "To try something more ambitious, you can run an Ubuntu container with:\r\n",
      " $ docker run -it ubuntu bash\r\n",
      "\r\n",
      "Share images, automate workflows, and more with a free Docker ID:\r\n",
      " https://hub.docker.com/\r\n",
      "\r\n",
      "For more examples and ideas, visit:\r\n",
      " https://docs.docker.com/get-started/\r\n",
      "\r\n"
     ]
    }
   ],
   "source": [
    "!docker run hello-world"
   ]
  },
  {
   "cell_type": "markdown",
   "metadata": {},
   "source": [
    "Primero la intentó buscar localmente, y como no la encontró, la fue a buscar a Docker Hub\n",
    "> Docker Hub es el repositorio central de imagenes de Docker\n",
    "https://hub.docker.com/_/hello-world\n",
    "\n",
    "Se pueden bajar otras versiones de esa imagen en https://hub.docker.com/_/hello-world?tab=tags\n",
    "\n",
    "Puedo indicarle la version exacta de la imagen que quiero correr a docker a partir de los tags de la siguiente forma:"
   ]
  },
  {
   "cell_type": "code",
   "execution_count": 7,
   "metadata": {},
   "outputs": [
    {
     "name": "stdout",
     "output_type": "stream",
     "text": [
      "\r\n",
      "Hello from Docker!\r\n",
      "This message shows that your installation appears to be working correctly.\r\n",
      "\r\n",
      "To generate this message, Docker took the following steps:\r\n",
      " 1. The Docker client contacted the Docker daemon.\r\n",
      " 2. The Docker daemon pulled the \"hello-world\" image from the Docker Hub.\r\n",
      "    (amd64)\r\n",
      " 3. The Docker daemon created a new container from that image which runs the\r\n",
      "    executable that produces the output you are currently reading.\r\n",
      " 4. The Docker daemon streamed that output to the Docker client, which sent it\r\n",
      "    to your terminal.\r\n",
      "\r\n",
      "To try something more ambitious, you can run an Ubuntu container with:\r\n",
      " $ docker run -it ubuntu bash\r\n",
      "\r\n",
      "Share images, automate workflows, and more with a free Docker ID:\r\n",
      " https://hub.docker.com/\r\n",
      "\r\n",
      "For more examples and ideas, visit:\r\n",
      " https://docs.docker.com/get-started/\r\n",
      "\r\n"
     ]
    }
   ],
   "source": [
    "!docker run hello-world:linux"
   ]
  },
  {
   "cell_type": "markdown",
   "metadata": {},
   "source": [
    "¿Que imágenes tenemos bajadas hasta ahora en nuestra máquina?"
   ]
  },
  {
   "cell_type": "code",
   "execution_count": 8,
   "metadata": {},
   "outputs": [
    {
     "name": "stdout",
     "output_type": "stream",
     "text": [
      "REPOSITORY                TAG                 IMAGE ID            CREATED             SIZE\r\n",
      "fsilvestre/flask          latest              68d446f1d317        2 days ago          924MB\r\n",
      "flask                     latest              68d446f1d317        2 days ago          924MB\r\n",
      "python                    3.6                 13efce2de907        10 days ago         914MB\r\n",
      "nginx                     latest              2622e6cca7eb        10 days ago         132MB\r\n",
      "ubuntu                    latest              1d622ef86b13        8 weeks ago         73.9MB\r\n",
      "hello-world               latest              bf756fb1ae65        5 months ago        13.3kB\r\n",
      "hello-world               linux               bf756fb1ae65        5 months ago        13.3kB\r\n",
      "postgres                  9.6                 1ac5eccdbc65        6 months ago        250MB\r\n",
      "zpencerq/docker-airflow   1.10.2              18ccf183a3b7        17 months ago       836MB\r\n",
      "uber/ssh-agent-forward    latest              37e4f49b0353        2 years ago         11.6MB\r\n",
      "redis                     3.2.7               74d8f543ac97        3 years ago         184MB\r\n"
     ]
    }
   ],
   "source": [
    "!docker images"
   ]
  },
  {
   "cell_type": "markdown",
   "metadata": {},
   "source": [
    "¿Cuales son los containers que corrimos hasta ahora?"
   ]
  },
  {
   "cell_type": "code",
   "execution_count": 10,
   "metadata": {},
   "outputs": [
    {
     "name": "stdout",
     "output_type": "stream",
     "text": [
      "CONTAINER ID        IMAGE               COMMAND             CREATED             STATUS                      PORTS               NAMES\r\n",
      "261118f0f866        hello-world:linux   \"/hello\"            9 minutes ago       Exited (0) 9 minutes ago                        vigorous_gould\r\n",
      "ed4919b238b9        hello-world         \"/hello\"            10 minutes ago      Exited (0) 10 minutes ago                       gifted_chebyshev\r\n"
     ]
    }
   ],
   "source": [
    "!docker container ls --all"
   ]
  },
  {
   "cell_type": "markdown",
   "metadata": {},
   "source": [
    "Podemos bajar una imagen pero no levantar el container"
   ]
  },
  {
   "cell_type": "code",
   "execution_count": 11,
   "metadata": {},
   "outputs": [
    {
     "name": "stdout",
     "output_type": "stream",
     "text": [
      "Using default tag: latest\r\n",
      "latest: Pulling from library/ubuntu\r\n",
      "\r\n",
      "\u001b[1Ba29f9ba4: Pulling fs layer \r\n",
      "\u001b[1B9761dcba: Pulling fs layer \r\n",
      "\u001b[1Bf203e905: Pulling fs layer \r\n",
      "\u001b[1BDigest: sha256:35c4a2c15539c6c1e4e5fa4e554dac323ad0107d8eb5c582d6ff386b383b7dce\u001b[2K\u001b[4A\u001b[2K\u001b[4A\u001b[2K\u001b[3A\u001b[2K\u001b[3A\u001b[2K\u001b[4A\u001b[2K\u001b[4A\u001b[2K\u001b[4A\u001b[2K\u001b[4A\u001b[2K\u001b[4A\u001b[2K\u001b[4A\u001b[2K\u001b[4A\u001b[2K\u001b[4A\u001b[2K\u001b[4A\u001b[2K\u001b[4A\u001b[2K\u001b[4A\u001b[2K\u001b[4A\u001b[2K\u001b[4A\u001b[2K\u001b[4A\u001b[2K\u001b[4A\u001b[2K\u001b[4A\u001b[2K\u001b[4A\u001b[2K\u001b[4A\u001b[2K\u001b[4A\u001b[2K\u001b[4A\u001b[2K\u001b[4A\u001b[2K\u001b[4A\u001b[2K\u001b[4A\u001b[2K\u001b[4A\u001b[2K\u001b[4A\u001b[2K\u001b[4A\u001b[2K\u001b[4A\u001b[2K\u001b[4A\u001b[2K\u001b[4A\u001b[2K\u001b[4A\u001b[2K\u001b[4A\u001b[2K\u001b[4A\u001b[2K\u001b[4A\u001b[2K\u001b[4A\u001b[2K\u001b[4A\u001b[2K\u001b[4A\u001b[2K\u001b[4A\u001b[2K\u001b[4A\u001b[2K\u001b[4A\u001b[2K\u001b[4A\u001b[2K\u001b[4A\u001b[2K\u001b[4A\u001b[2K\u001b[4A\u001b[2K\u001b[4A\u001b[2K\u001b[4A\u001b[2K\u001b[4A\u001b[2K\u001b[3A\u001b[2K\u001b[3A\u001b[2K\u001b[2A\u001b[2K\u001b[1A\u001b[2K\r\n",
      "Status: Downloaded newer image for ubuntu:latest\r\n",
      "docker.io/library/ubuntu:latest\r\n"
     ]
    }
   ],
   "source": [
    "#~\n",
    "!docker pull ubuntu"
   ]
  },
  {
   "cell_type": "code",
   "execution_count": 12,
   "metadata": {},
   "outputs": [
    {
     "name": "stdout",
     "output_type": "stream",
     "text": [
      "REPOSITORY                TAG                 IMAGE ID            CREATED             SIZE\r\n",
      "ubuntu                    latest              74435f89ab78        2 days ago          73.9MB\r\n",
      "fsilvestre/flask          latest              68d446f1d317        2 days ago          924MB\r\n",
      "flask                     latest              68d446f1d317        2 days ago          924MB\r\n",
      "python                    3.6                 13efce2de907        10 days ago         914MB\r\n",
      "nginx                     latest              2622e6cca7eb        10 days ago         132MB\r\n",
      "ubuntu                    <none>              1d622ef86b13        8 weeks ago         73.9MB\r\n",
      "hello-world               latest              bf756fb1ae65        5 months ago        13.3kB\r\n",
      "hello-world               linux               bf756fb1ae65        5 months ago        13.3kB\r\n",
      "postgres                  9.6                 1ac5eccdbc65        6 months ago        250MB\r\n",
      "zpencerq/docker-airflow   1.10.2              18ccf183a3b7        17 months ago       836MB\r\n",
      "uber/ssh-agent-forward    latest              37e4f49b0353        2 years ago         11.6MB\r\n",
      "redis                     3.2.7               74d8f543ac97        3 years ago         184MB\r\n"
     ]
    }
   ],
   "source": [
    "!docker images"
   ]
  },
  {
   "cell_type": "code",
   "execution_count": null,
   "metadata": {},
   "outputs": [],
   "source": [
    "# Desde la terminal correr el siguiente comando:\n",
    "#!docker run --interactive --tty ubuntu bash"
   ]
  },
  {
   "cell_type": "markdown",
   "metadata": {},
   "source": [
    "### ¿Que containers están corriendo en este momento?"
   ]
  },
  {
   "cell_type": "code",
   "execution_count": 13,
   "metadata": {},
   "outputs": [
    {
     "name": "stdout",
     "output_type": "stream",
     "text": [
      "CONTAINER ID        IMAGE               COMMAND             CREATED             STATUS              PORTS               NAMES\r\n"
     ]
    }
   ],
   "source": [
    "!docker ps"
   ]
  },
  {
   "cell_type": "markdown",
   "metadata": {},
   "source": [
    "`uname -a` nos va a mostrar que container y host están compartiendo el kernel  \n",
    "Salgamos de la sesión de Terminal"
   ]
  },
  {
   "cell_type": "markdown",
   "metadata": {},
   "source": [
    "### Corramos un servicio (foreground)"
   ]
  },
  {
   "cell_type": "code",
   "execution_count": null,
   "metadata": {
    "pycharm": {
     "is_executing": true
    }
   },
   "outputs": [
    {
     "name": "stdout",
     "output_type": "stream",
     "text": [
      "Unable to find image 'nginx:latest' locally\r\n",
      "latest: Pulling from library/nginx\r\n",
      "\r\n",
      "\u001b[1Ba31e96f4: Pulling fs layer \r\n",
      "\u001b[1Be59170f7: Pulling fs layer \r\n",
      "\u001b[1B1ec1d262: Pulling fs layer \r\n",
      "\u001b[1Bff4f210d: Pulling fs layer \r\n",
      "\u001b[1BDigest: sha256:21f32f6c08406306d822a0e6e8b7dc81f53f336570e852e25fbe1e3e3d0d0133\u001b[2K\u001b[4A\u001b[2K\u001b[4A\u001b[2K\u001b[5A\u001b[2K\u001b[4A\u001b[2K\u001b[5A\u001b[2K\u001b[4A\u001b[2K\u001b[5A\u001b[2K\u001b[4A\u001b[2K\u001b[5A\u001b[2K\u001b[4A\u001b[2K\u001b[5A\u001b[2K\u001b[2A\u001b[2K\u001b[4A\u001b[2K\u001b[4A\u001b[2K\u001b[4A\u001b[2K\u001b[5A\u001b[2K\u001b[5A\u001b[2K\u001b[4A\u001b[2K\u001b[4A\u001b[2K\u001b[5A\u001b[2K\u001b[5A\u001b[2K\u001b[5A\u001b[2K\u001b[5A\u001b[2K\u001b[5A\u001b[2K\u001b[5A\u001b[2K\u001b[5A\u001b[2K\u001b[5A\u001b[2K\u001b[5A\u001b[2K\u001b[5A\u001b[2K\u001b[4A\u001b[2K\u001b[1A\u001b[2K\u001b[4A\u001b[2K\u001b[4A\u001b[2K\u001b[4A\u001b[2K\u001b[4A\u001b[2K\u001b[4A\u001b[2K\u001b[3A\u001b[2K\u001b[2A\u001b[2K\u001b[1A\u001b[2K\u001b[1A\u001b[2K\r\n",
      "Status: Downloaded newer image for nginx:latest\r\n",
      "/docker-entrypoint.sh: /docker-entrypoint.d/ is not empty, will attempt to perform configuration\r\n",
      "/docker-entrypoint.sh: Looking for shell scripts in /docker-entrypoint.d/\r\n",
      "/docker-entrypoint.sh: Launching /docker-entrypoint.d/10-listen-on-ipv6-by-default.sh\r\n",
      "10-listen-on-ipv6-by-default.sh: Getting the checksum of /etc/nginx/conf.d/default.conf\r\n",
      "10-listen-on-ipv6-by-default.sh: Enabled listen on IPv6 in /etc/nginx/conf.d/default.conf\r\n",
      "/docker-entrypoint.sh: Launching /docker-entrypoint.d/20-envsubst-on-templates.sh\r\n",
      "/docker-entrypoint.sh: Configuration complete; ready for start up\r\n",
      "172.17.0.1 - - [16/Jun/2020:23:00:31 +0000] \"GET / HTTP/1.1\" 200 612 \"-\" \"curl/7.64.1\" \"-\"\r\n"
     ]
    }
   ],
   "source": [
    "# Terminal~\n",
    "!docker run --publish 80:80 nginx"
   ]
  },
  {
   "cell_type": "code",
   "execution_count": 11,
   "metadata": {},
   "outputs": [
    {
     "name": "stdout",
     "output_type": "stream",
     "text": [
      "<!DOCTYPE html>\r\n",
      "<html>\r\n",
      "<head>\r\n",
      "<title>Welcome to nginx!</title>\r\n",
      "<style>\r\n",
      "    body {\r\n",
      "        width: 35em;\r\n",
      "        margin: 0 auto;\r\n",
      "        font-family: Tahoma, Verdana, Arial, sans-serif;\r\n",
      "    }\r\n",
      "</style>\r\n",
      "</head>\r\n",
      "<body>\r\n",
      "<h1>Welcome to nginx!</h1>\r\n",
      "<p>If you see this page, the nginx web server is successfully installed and\r\n",
      "working. Further configuration is required.</p>\r\n",
      "\r\n",
      "<p>For online documentation and support please refer to\r\n",
      "<a href=\"http://nginx.org/\">nginx.org</a>.<br/>\r\n",
      "Commercial support is available at\r\n",
      "<a href=\"http://nginx.com/\">nginx.com</a>.</p>\r\n",
      "\r\n",
      "<p><em>Thank you for using nginx.</em></p>\r\n",
      "</body>\r\n",
      "</html>\r\n"
     ]
    }
   ],
   "source": [
    "!curl http://localhost"
   ]
  },
  {
   "cell_type": "markdown",
   "metadata": {},
   "source": [
    "Podemos ver todo lo que escribe el servicio  \n",
    "En este caso podemos salir con ^C"
   ]
  },
  {
   "cell_type": "markdown",
   "metadata": {},
   "source": [
    "### Corramos un servicio (detached)"
   ]
  },
  {
   "cell_type": "code",
   "execution_count": 14,
   "metadata": {},
   "outputs": [
    {
     "name": "stdout",
     "output_type": "stream",
     "text": [
      "7f72a311549a87f2eea0559d6b59cb5ca31122df0d5720a6bedf00a06a9a2877\r\n"
     ]
    }
   ],
   "source": [
    "!docker run --detach --publish 80:80 nginx"
   ]
  },
  {
   "cell_type": "code",
   "execution_count": 15,
   "metadata": {},
   "outputs": [
    {
     "name": "stdout",
     "output_type": "stream",
     "text": [
      "CONTAINER ID        IMAGE               COMMAND                  CREATED             STATUS              PORTS                NAMES\r\n",
      "7f72a311549a        nginx               \"/docker-entrypoint.…\"   2 seconds ago       Up 1 second         0.0.0.0:80->80/tcp   admiring_gould\r\n"
     ]
    }
   ],
   "source": [
    "!docker ps"
   ]
  },
  {
   "cell_type": "markdown",
   "metadata": {},
   "source": [
    "Si quisieramos ver la salida de nuestro servicio"
   ]
  },
  {
   "cell_type": "code",
   "execution_count": 17,
   "metadata": {},
   "outputs": [
    {
     "name": "stdout",
     "output_type": "stream",
     "text": [
      "/docker-entrypoint.sh: /docker-entrypoint.d/ is not empty, will attempt to perform configuration\r\n",
      "/docker-entrypoint.sh: Looking for shell scripts in /docker-entrypoint.d/\r\n",
      "/docker-entrypoint.sh: Launching /docker-entrypoint.d/10-listen-on-ipv6-by-default.sh\r\n",
      "10-listen-on-ipv6-by-default.sh: Getting the checksum of /etc/nginx/conf.d/default.conf\r\n",
      "10-listen-on-ipv6-by-default.sh: Enabled listen on IPv6 in /etc/nginx/conf.d/default.conf\r\n",
      "/docker-entrypoint.sh: Launching /docker-entrypoint.d/20-envsubst-on-templates.sh\r\n",
      "/docker-entrypoint.sh: Configuration complete; ready for start up\r\n"
     ]
    }
   ],
   "source": [
    "!docker logs 7f72a311549a"
   ]
  },
  {
   "cell_type": "markdown",
   "metadata": {},
   "source": [
    "### Matando un container"
   ]
  },
  {
   "cell_type": "code",
   "execution_count": 18,
   "metadata": {},
   "outputs": [
    {
     "name": "stdout",
     "output_type": "stream",
     "text": [
      "7f72a311549a\r\n"
     ]
    }
   ],
   "source": [
    "!docker stop 7f72a311549a"
   ]
  },
  {
   "cell_type": "markdown",
   "metadata": {},
   "source": [
    "### Nombrando containers"
   ]
  },
  {
   "cell_type": "code",
   "execution_count": 19,
   "metadata": {},
   "outputs": [
    {
     "name": "stdout",
     "output_type": "stream",
     "text": [
      "59af85f5fd5517d7fcec7fc340a749759090785b83a13ec3b7be420fa62578a8\r\n"
     ]
    }
   ],
   "source": [
    "!docker run --detach --publish 80:80 --name webserver nginx"
   ]
  },
  {
   "cell_type": "code",
   "execution_count": 20,
   "metadata": {},
   "outputs": [
    {
     "name": "stdout",
     "output_type": "stream",
     "text": [
      "CONTAINER ID        IMAGE               COMMAND                  CREATED             STATUS                  PORTS                NAMES\r\n",
      "59af85f5fd55        nginx               \"/docker-entrypoint.…\"   1 second ago        Up Less than a second   0.0.0.0:80->80/tcp   webserver\r\n"
     ]
    }
   ],
   "source": [
    "!docker ps"
   ]
  },
  {
   "cell_type": "markdown",
   "metadata": {},
   "source": [
    "### Matar un container con su nombre es más fácil"
   ]
  },
  {
   "cell_type": "code",
   "execution_count": 21,
   "metadata": {},
   "outputs": [
    {
     "name": "stdout",
     "output_type": "stream",
     "text": [
      "webserver\r\n"
     ]
    }
   ],
   "source": [
    "!docker stop webserver"
   ]
  },
  {
   "cell_type": "markdown",
   "metadata": {},
   "source": [
    "### ¿Que pasa si quiero levantar un container con el mismo nombre?"
   ]
  },
  {
   "cell_type": "code",
   "execution_count": 22,
   "metadata": {},
   "outputs": [
    {
     "name": "stdout",
     "output_type": "stream",
     "text": [
      "docker: Error response from daemon: Conflict. The container name \"/webserver\" is already in use by container \"59af85f5fd5517d7fcec7fc340a749759090785b83a13ec3b7be420fa62578a8\". You have to remove (or rename) that container to be able to reuse that name.\r\n",
      "See 'docker run --help'.\r\n"
     ]
    }
   ],
   "source": [
    "!docker run --detach --publish 80:80 --name webserver nginx"
   ]
  },
  {
   "cell_type": "code",
   "execution_count": 23,
   "metadata": {},
   "outputs": [
    {
     "name": "stdout",
     "output_type": "stream",
     "text": [
      "CONTAINER ID        IMAGE               COMMAND                  CREATED             STATUS                      PORTS               NAMES\r\n",
      "59af85f5fd55        nginx               \"/docker-entrypoint.…\"   16 seconds ago      Exited (0) 12 seconds ago                       webserver\r\n",
      "7f72a311549a        nginx               \"/docker-entrypoint.…\"   56 seconds ago      Exited (0) 21 seconds ago                       admiring_gould\r\n",
      "261118f0f866        hello-world:linux   \"/hello\"                 11 minutes ago      Exited (0) 11 minutes ago                       vigorous_gould\r\n",
      "ed4919b238b9        hello-world         \"/hello\"                 12 minutes ago      Exited (0) 12 minutes ago                       gifted_chebyshev\r\n"
     ]
    }
   ],
   "source": [
    "!docker container ls --all"
   ]
  },
  {
   "cell_type": "code",
   "execution_count": 24,
   "metadata": {},
   "outputs": [
    {
     "name": "stdout",
     "output_type": "stream",
     "text": [
      "webserver\r\n"
     ]
    }
   ],
   "source": [
    "# !docker container rm webserver\n",
    "!docker rm webserver"
   ]
  },
  {
   "cell_type": "markdown",
   "metadata": {},
   "source": [
    "### O la próxima vez que lo corramos le decimos que lo borre cuando termine con --rm"
   ]
  },
  {
   "cell_type": "code",
   "execution_count": 25,
   "metadata": {},
   "outputs": [
    {
     "name": "stdout",
     "output_type": "stream",
     "text": [
      "f4037b459086b3a62b30282f01dd54de9eed64fc462e721a9e42ea82310aed58\r\n"
     ]
    }
   ],
   "source": [
    "!docker run --rm --detach --publish 80:80 --name webserver nginx"
   ]
  },
  {
   "cell_type": "code",
   "execution_count": 26,
   "metadata": {},
   "outputs": [
    {
     "name": "stdout",
     "output_type": "stream",
     "text": [
      "webserver\r\n"
     ]
    }
   ],
   "source": [
    "!docker stop webserver"
   ]
  },
  {
   "cell_type": "code",
   "execution_count": 27,
   "metadata": {},
   "outputs": [
    {
     "name": "stdout",
     "output_type": "stream",
     "text": [
      "CONTAINER ID        IMAGE               COMMAND                  CREATED              STATUS                      PORTS               NAMES\r\n",
      "7f72a311549a        nginx               \"/docker-entrypoint.…\"   About a minute ago   Exited (0) 27 seconds ago                       admiring_gould\r\n",
      "261118f0f866        hello-world:linux   \"/hello\"                 11 minutes ago       Exited (0) 11 minutes ago                       vigorous_gould\r\n",
      "ed4919b238b9        hello-world         \"/hello\"                 12 minutes ago       Exited (0) 12 minutes ago                       gifted_chebyshev\r\n"
     ]
    }
   ],
   "source": [
    "!docker container ls --all"
   ]
  },
  {
   "cell_type": "markdown",
   "metadata": {},
   "source": [
    "### ¿Puedo levantar dos containers desde la misma imagen?"
   ]
  },
  {
   "cell_type": "code",
   "execution_count": 28,
   "metadata": {},
   "outputs": [
    {
     "name": "stdout",
     "output_type": "stream",
     "text": [
      "7b9f691635010a55f33425f3efeac90b0f403efcfc18c74e4f869c34e76a70ac\r\n"
     ]
    }
   ],
   "source": [
    "# Container #1\n",
    "!docker run --rm --detach --publish 80:80 --name webserver1 nginx"
   ]
  },
  {
   "cell_type": "markdown",
   "metadata": {},
   "source": [
    "### Con otro nombre..."
   ]
  },
  {
   "cell_type": "code",
   "execution_count": 29,
   "metadata": {},
   "outputs": [
    {
     "name": "stdout",
     "output_type": "stream",
     "text": [
      "docker: Error response from daemon: Conflict. The container name \"/webserver1\" is already in use by container \"7b9f691635010a55f33425f3efeac90b0f403efcfc18c74e4f869c34e76a70ac\". You have to remove (or rename) that container to be able to reuse that name.\r\n",
      "See 'docker run --help'.\r\n"
     ]
    }
   ],
   "source": [
    "!docker run --rm --detach --publish 80:80 --name webserver1 nginx"
   ]
  },
  {
   "cell_type": "code",
   "execution_count": 30,
   "metadata": {},
   "outputs": [
    {
     "name": "stdout",
     "output_type": "stream",
     "text": [
      "2a6c566b06324b26cf4b8bc33db52fa8aa8bdab72b22f2f10938f5e15f4da89b\r\n",
      "docker: Error response from daemon: driver failed programming external connectivity on endpoint webserver2 (b8b383ef5002f0494931fca112eaf8f2e747a20615f19c941ebe62a8a2e48721): Bind for 0.0.0.0:80 failed: port is already allocated.\r\n"
     ]
    }
   ],
   "source": [
    "!docker run --rm --detach --publish 80:80 --name webserver2 nginx"
   ]
  },
  {
   "cell_type": "markdown",
   "metadata": {},
   "source": [
    "### Y en otro puerto..."
   ]
  },
  {
   "cell_type": "code",
   "execution_count": 31,
   "metadata": {},
   "outputs": [
    {
     "name": "stdout",
     "output_type": "stream",
     "text": [
      "cbf8cb99a9d437e424d5c66c143c7cde20330e18a7c75762893924f217a5af03\r\n"
     ]
    }
   ],
   "source": [
    "# Container #2\n",
    "!docker run --rm --detach --publish 81:80 --name webserver2 nginx"
   ]
  },
  {
   "cell_type": "code",
   "execution_count": 32,
   "metadata": {},
   "outputs": [
    {
     "name": "stdout",
     "output_type": "stream",
     "text": [
      "CONTAINER ID        IMAGE               COMMAND                  CREATED             STATUS                  PORTS                NAMES\r\n",
      "cbf8cb99a9d4        nginx               \"/docker-entrypoint.…\"   1 second ago        Up Less than a second   0.0.0.0:81->80/tcp   webserver2\r\n",
      "7b9f69163501        nginx               \"/docker-entrypoint.…\"   4 seconds ago       Up 3 seconds            0.0.0.0:80->80/tcp   webserver1\r\n"
     ]
    }
   ],
   "source": [
    "# Dos servidores web corriendo en esta máquina\n",
    "!docker ps"
   ]
  },
  {
   "cell_type": "code",
   "execution_count": 33,
   "metadata": {},
   "outputs": [
    {
     "name": "stdout",
     "output_type": "stream",
     "text": [
      "<!DOCTYPE html>\r\n",
      "<html>\r\n",
      "<head>\r\n",
      "<title>Welcome to nginx!</title>\r\n",
      "<style>\r\n",
      "    body {\r\n",
      "        width: 35em;\r\n",
      "        margin: 0 auto;\r\n",
      "        font-family: Tahoma, Verdana, Arial, sans-serif;\r\n",
      "    }\r\n",
      "</style>\r\n",
      "</head>\r\n",
      "<body>\r\n",
      "<h1>Welcome to nginx!</h1>\r\n",
      "<p>If you see this page, the nginx web server is successfully installed and\r\n",
      "working. Further configuration is required.</p>\r\n",
      "\r\n",
      "<p>For online documentation and support please refer to\r\n",
      "<a href=\"http://nginx.org/\">nginx.org</a>.<br/>\r\n",
      "Commercial support is available at\r\n",
      "<a href=\"http://nginx.com/\">nginx.com</a>.</p>\r\n",
      "\r\n",
      "<p><em>Thank you for using nginx.</em></p>\r\n",
      "</body>\r\n",
      "</html>\r\n"
     ]
    }
   ],
   "source": [
    "!curl http://localhost:81"
   ]
  },
  {
   "cell_type": "markdown",
   "metadata": {},
   "source": [
    "### No hay dos sin tres"
   ]
  },
  {
   "cell_type": "code",
   "execution_count": 34,
   "metadata": {},
   "outputs": [
    {
     "name": "stdout",
     "output_type": "stream",
     "text": [
      "224811fd077c69f5bd1599384f172a157489d8ca9d073e3b3717d223328f179c\r\n"
     ]
    }
   ],
   "source": [
    "!docker run --rm --detach --publish 82:80 --name webserver3 nginx"
   ]
  },
  {
   "cell_type": "code",
   "execution_count": 35,
   "metadata": {},
   "outputs": [
    {
     "name": "stdout",
     "output_type": "stream",
     "text": [
      "CONTAINER ID        IMAGE               COMMAND                  CREATED                  STATUS                  PORTS                NAMES\r\n",
      "224811fd077c        nginx               \"/docker-entrypoint.…\"   Less than a second ago   Up Less than a second   0.0.0.0:82->80/tcp   webserver3\r\n",
      "cbf8cb99a9d4        nginx               \"/docker-entrypoint.…\"   7 seconds ago            Up 6 seconds            0.0.0.0:81->80/tcp   webserver2\r\n",
      "7b9f69163501        nginx               \"/docker-entrypoint.…\"   10 seconds ago           Up 10 seconds           0.0.0.0:80->80/tcp   webserver1\r\n"
     ]
    }
   ],
   "source": [
    "!docker ps"
   ]
  },
  {
   "cell_type": "markdown",
   "metadata": {},
   "source": [
    "### ¿Cuanta memoria ocupa todo eso?"
   ]
  },
  {
   "cell_type": "code",
   "execution_count": 36,
   "metadata": {},
   "outputs": [
    {
     "name": "stdout",
     "output_type": "stream",
     "text": [
      "CONTAINER ID        NAME                CPU %               MEM USAGE / LIMIT     MEM %               NET I/O             BLOCK I/O           PIDS\r\n",
      "224811fd077c        webserver3          0.00%               2.59MiB / 1.944GiB    0.13%               516B / 0B           0B / 0B             2\r\n",
      "cbf8cb99a9d4        webserver2          0.00%               2.43MiB / 1.944GiB    0.12%               1.22kB / 1.27kB     0B / 0B             2\r\n",
      "7b9f69163501        webserver1          0.00%               2.281MiB / 1.944GiB   0.11%               878B / 0B           0B / 0B             2\r\n"
     ]
    }
   ],
   "source": [
    "!docker stats --no-stream"
   ]
  },
  {
   "cell_type": "code",
   "execution_count": 38,
   "metadata": {},
   "outputs": [
    {
     "name": "stdout",
     "output_type": "stream",
     "text": [
      "webserver1\r\n",
      "webserver2\r\n",
      "webserver3\r\n"
     ]
    }
   ],
   "source": [
    "# Terminal\n",
    "!docker stop webserver1 webserver2 webserver3"
   ]
  },
  {
   "cell_type": "markdown",
   "metadata": {},
   "source": [
    "# 2- Construcción de una imagen"
   ]
  },
  {
   "cell_type": "markdown",
   "metadata": {},
   "source": [
    "Volvamos a la presentación para ver como se construye una imagen"
   ]
  },
  {
   "cell_type": "markdown",
   "metadata": {},
   "source": [
    "API muy sencilla en Flask"
   ]
  },
  {
   "cell_type": "code",
   "execution_count": 39,
   "metadata": {},
   "outputs": [
    {
     "name": "stdout",
     "output_type": "stream",
     "text": [
      "Flask"
     ]
    }
   ],
   "source": [
    "!cat requirements.txt"
   ]
  },
  {
   "cell_type": "code",
   "execution_count": 41,
   "metadata": {},
   "outputs": [
    {
     "name": "stdout",
     "output_type": "stream",
     "text": [
      "Requirement already satisfied: Flask in /Users/florenciasilvestre/.venv/airflow/bin/activate/lib/python3.7/site-packages (from -r requirements.txt (line 1)) (1.1.1)\r\n",
      "Requirement already satisfied: click>=5.1 in /Users/florenciasilvestre/.venv/airflow/bin/activate/lib/python3.7/site-packages (from Flask->-r requirements.txt (line 1)) (7.0)\r\n",
      "Requirement already satisfied: Werkzeug>=0.15 in /Users/florenciasilvestre/.venv/airflow/bin/activate/lib/python3.7/site-packages (from Flask->-r requirements.txt (line 1)) (0.16.0)\r\n",
      "Requirement already satisfied: itsdangerous>=0.24 in /Users/florenciasilvestre/.venv/airflow/bin/activate/lib/python3.7/site-packages (from Flask->-r requirements.txt (line 1)) (1.1.0)\r\n",
      "Requirement already satisfied: Jinja2>=2.10.1 in /Users/florenciasilvestre/.venv/airflow/bin/activate/lib/python3.7/site-packages (from Flask->-r requirements.txt (line 1)) (2.10.3)\r\n",
      "Requirement already satisfied: MarkupSafe>=0.23 in /Users/florenciasilvestre/.venv/airflow/bin/activate/lib/python3.7/site-packages (from Jinja2>=2.10.1->Flask->-r requirements.txt (line 1)) (1.1.1)\r\n",
      "\u001b[33mWARNING: You are using pip version 19.2.3, however version 20.1.1 is available.\r\n",
      "You should consider upgrading via the 'pip install --upgrade pip' command.\u001b[0m\r\n"
     ]
    }
   ],
   "source": [
    "!pip3 install -r requirements.txt"
   ]
  },
  {
   "cell_type": "code",
   "execution_count": null,
   "metadata": {},
   "outputs": [],
   "source": [
    "# Desde Terminal\n",
    "#!python3 app.py"
   ]
  },
  {
   "cell_type": "code",
   "execution_count": 42,
   "metadata": {},
   "outputs": [
    {
     "name": "stdout",
     "output_type": "stream",
     "text": [
      "{\r\n",
      "  \"message\": \"Hello! I'm inside a container\"\r\n",
      "}\r\n"
     ]
    }
   ],
   "source": [
    "!curl http://localhost:5000"
   ]
  },
  {
   "cell_type": "code",
   "execution_count": 47,
   "metadata": {},
   "outputs": [
    {
     "name": "stdout",
     "output_type": "stream",
     "text": [
      "# Imagen padre desde la que vamos a heredar. Podriamos usar otra?\r\n",
      "FROM python:3.6\r\n",
      "\r\n",
      "# Directorio adentro del container en donde vamos a trabajar\r\n",
      "# Es como hacer un cd, sino estariamos trabajando en el /\r\n",
      "WORKDIR /app\r\n",
      "\r\n",
      "# Contexto: Copia todo el contenido de este directerio adentro del container en la carpeta /app\r\n",
      "COPY . /app\r\n",
      "\r\n",
      "# Correr un comando, en este caso para instalar las dependencias en requirements.txt\r\n",
      "RUN pip install -r requirements.txt\r\n",
      "\r\n",
      "# Abre el puerto 5000 del container\r\n",
      "EXPOSE 5000\r\n",
      "\r\n",
      "# Cuando el container se lance va a ejecutar este comando\r\n",
      "CMD [\"python\", \"app.py\"]"
     ]
    }
   ],
   "source": [
    "!cat Dockerfile"
   ]
  },
  {
   "cell_type": "code",
   "execution_count": 48,
   "metadata": {},
   "outputs": [
    {
     "name": "stdout",
     "output_type": "stream",
     "text": [
      "Sending build context to Docker daemon  1.602MB\r\n",
      "Step 1/6 : FROM python:3.6\r\n",
      " ---> 13efce2de907\r\n",
      "Step 2/6 : WORKDIR /app\r\n",
      " ---> Using cache\r\n",
      " ---> 175a4669f296\r\n",
      "Step 3/6 : COPY . /app\r\n",
      " ---> 8a23178abaca\r\n",
      "Step 4/6 : RUN pip install -r requirements.txt\r\n",
      " ---> Running in 222ba7630731\r\n",
      "Collecting Flask\r\n",
      "  Downloading Flask-1.1.2-py2.py3-none-any.whl (94 kB)\r\n",
      "Collecting click>=5.1\r\n",
      "  Downloading click-7.1.2-py2.py3-none-any.whl (82 kB)\r\n",
      "Collecting itsdangerous>=0.24\r\n",
      "  Downloading itsdangerous-1.1.0-py2.py3-none-any.whl (16 kB)\r\n",
      "Collecting Werkzeug>=0.15\r\n",
      "  Downloading Werkzeug-1.0.1-py2.py3-none-any.whl (298 kB)\r\n",
      "Collecting Jinja2>=2.10.1\r\n",
      "  Downloading Jinja2-2.11.2-py2.py3-none-any.whl (125 kB)\r\n",
      "Collecting MarkupSafe>=0.23\r\n",
      "  Downloading MarkupSafe-1.1.1-cp36-cp36m-manylinux1_x86_64.whl (27 kB)\r\n",
      "Installing collected packages: click, itsdangerous, Werkzeug, MarkupSafe, Jinja2, Flask\r\n",
      "Successfully installed Flask-1.1.2 Jinja2-2.11.2 MarkupSafe-1.1.1 Werkzeug-1.0.1 click-7.1.2 itsdangerous-1.1.0\r\n",
      "Removing intermediate container 222ba7630731\r\n",
      " ---> 308d8187e1a1\r\n",
      "Step 5/6 : EXPOSE 5000\r\n",
      " ---> Running in 926bc99fba17\r\n",
      "Removing intermediate container 926bc99fba17\r\n",
      " ---> 3c0f8a148c69\r\n",
      "Step 6/6 : CMD [\"python\", \"app.py\"]\r\n",
      " ---> Running in a16ea98d06de\r\n",
      "Removing intermediate container a16ea98d06de\r\n",
      " ---> b9966dc8a342\r\n",
      "Successfully built b9966dc8a342\r\n",
      "Successfully tagged flask:latest\r\n"
     ]
    }
   ],
   "source": [
    "!docker build --tag=flask . "
   ]
  },
  {
   "cell_type": "code",
   "execution_count": 49,
   "metadata": {},
   "outputs": [
    {
     "name": "stdout",
     "output_type": "stream",
     "text": [
      "REPOSITORY                TAG                 IMAGE ID            CREATED             SIZE\r\n",
      "flask                     latest              b9966dc8a342        7 seconds ago       925MB\r\n",
      "ubuntu                    latest              74435f89ab78        2 days ago          73.9MB\r\n",
      "fsilvestre/flask          latest              68d446f1d317        2 days ago          924MB\r\n",
      "python                    3.6                 13efce2de907        10 days ago         914MB\r\n",
      "nginx                     latest              2622e6cca7eb        10 days ago         132MB\r\n",
      "ubuntu                    <none>              1d622ef86b13        8 weeks ago         73.9MB\r\n",
      "hello-world               latest              bf756fb1ae65        5 months ago        13.3kB\r\n",
      "hello-world               linux               bf756fb1ae65        5 months ago        13.3kB\r\n",
      "postgres                  9.6                 1ac5eccdbc65        6 months ago        250MB\r\n",
      "zpencerq/docker-airflow   1.10.2              18ccf183a3b7        17 months ago       836MB\r\n",
      "uber/ssh-agent-forward    latest              37e4f49b0353        2 years ago         11.6MB\r\n",
      "redis                     3.2.7               74d8f543ac97        3 years ago         184MB\r\n"
     ]
    }
   ],
   "source": [
    "!docker images"
   ]
  },
  {
   "cell_type": "code",
   "execution_count": null,
   "metadata": {},
   "outputs": [],
   "source": [
    "# Terminal\n",
    "#!docker run --name server --rm --publish 80:5000 flask"
   ]
  },
  {
   "cell_type": "markdown",
   "metadata": {},
   "source": [
    "El container \"cree\" que está en el puerto 5000"
   ]
  },
  {
   "cell_type": "code",
   "execution_count": 50,
   "metadata": {},
   "outputs": [
    {
     "name": "stdout",
     "output_type": "stream",
     "text": [
      "{\r\n",
      "  \"message\": \"Hello! I'm inside a container\"\r\n",
      "}\r\n"
     ]
    }
   ],
   "source": [
    "!curl http://localhost"
   ]
  },
  {
   "cell_type": "code",
   "execution_count": 51,
   "metadata": {},
   "outputs": [],
   "source": [
    "#!curl http://localhost:5000"
   ]
  },
  {
   "cell_type": "markdown",
   "metadata": {},
   "source": [
    "### Inspeccionemos el container que está corriendo"
   ]
  },
  {
   "cell_type": "code",
   "execution_count": null,
   "metadata": {},
   "outputs": [],
   "source": [
    "# Terminal\n",
    "# Loguea en /app\n",
    "# ls\n",
    "# uname -a comparten kernel con el host (si estamos en linux)\n",
    "!docker exec --interactive --tty server bash"
   ]
  },
  {
   "cell_type": "markdown",
   "metadata": {},
   "source": [
    "### Publiquemos la imagen"
   ]
  },
  {
   "cell_type": "markdown",
   "metadata": {},
   "source": [
    "Hay que registrase en https://hub.docker.com  \n",
    "Con eso van a tener habilitado un perfil en donde van a poder tener repositorios de imagenes https://hub.docker.com/u/rsavoie"
   ]
  },
  {
   "cell_type": "code",
   "execution_count": 58,
   "metadata": {},
   "outputs": [
    {
     "name": "stdout",
     "output_type": "stream",
     "text": [
      "Authenticating with existing credentials...\n",
      "WARNING! Your password will be stored unencrypted in /home/ramiro/.docker/config.json.\n",
      "Configure a credential helper to remove this warning. See\n",
      "https://docs.docker.com/engine/reference/commandline/login/#credentials-store\n",
      "\n",
      "Login Succeeded\n"
     ]
    }
   ],
   "source": [
    "!docker login"
   ]
  },
  {
   "cell_type": "code",
   "execution_count": 52,
   "metadata": {},
   "outputs": [],
   "source": [
    "# docker tag SOURCE_IMAGE[:TAG] TARGET_IMAGE[:TAG]\n",
    "# flask:imagen local fsilvestre:repositorio flask:imagen remota :latest\n",
    "!docker tag flask fsilvestre/flask"
   ]
  },
  {
   "cell_type": "code",
   "execution_count": 53,
   "metadata": {},
   "outputs": [
    {
     "name": "stdout",
     "output_type": "stream",
     "text": [
      "REPOSITORY                TAG                 IMAGE ID            CREATED             SIZE\r\n",
      "fsilvestre/flask          latest              b9966dc8a342        4 minutes ago       925MB\r\n",
      "fsilvestre/task           latest              b9966dc8a342        4 minutes ago       925MB\r\n",
      "flask                     latest              b9966dc8a342        4 minutes ago       925MB\r\n",
      "ubuntu                    latest              74435f89ab78        2 days ago          73.9MB\r\n",
      "fsilvestre/flask          <none>              68d446f1d317        2 days ago          924MB\r\n",
      "python                    3.6                 13efce2de907        10 days ago         914MB\r\n",
      "nginx                     latest              2622e6cca7eb        10 days ago         132MB\r\n",
      "ubuntu                    <none>              1d622ef86b13        8 weeks ago         73.9MB\r\n",
      "hello-world               latest              bf756fb1ae65        5 months ago        13.3kB\r\n",
      "hello-world               linux               bf756fb1ae65        5 months ago        13.3kB\r\n",
      "postgres                  9.6                 1ac5eccdbc65        6 months ago        250MB\r\n",
      "zpencerq/docker-airflow   1.10.2              18ccf183a3b7        17 months ago       836MB\r\n",
      "uber/ssh-agent-forward    latest              37e4f49b0353        2 years ago         11.6MB\r\n",
      "redis                     3.2.7               74d8f543ac97        3 years ago         184MB\r\n"
     ]
    }
   ],
   "source": [
    "!docker images"
   ]
  },
  {
   "cell_type": "code",
   "execution_count": 55,
   "metadata": {},
   "outputs": [
    {
     "name": "stdout",
     "output_type": "stream",
     "text": [
      "The push refers to repository [docker.io/fsilvestre/flask]\r\n",
      "\r\n",
      "\u001b[1B8e5b9325: Preparing \r\n",
      "\u001b[1B0cda2eac: Preparing \r\n",
      "\u001b[1Bac8e56da: Preparing \r\n",
      "\u001b[1B703d6103: Preparing \r\n",
      "\u001b[1Bf6aa0d01: Preparing \r\n",
      "\u001b[1Bb9f75f56: Preparing \r\n",
      "\u001b[1B305e9fd3: Preparing \r\n",
      "\u001b[1B18a2e1b1: Preparing \r\n",
      "\u001b[1B4ca91984: Preparing \r\n",
      "\u001b[1Bde4639e0: Preparing \r\n",
      "\u001b[1B89d2d3c5: Preparing \r\n",
      "\u001b[12Be5b9325: Pushed lready exists 9MB[8A\u001b[2K\u001b[11A\u001b[2K\u001b[9A\u001b[2K\u001b[7A\u001b[2K\u001b[12A\u001b[2K\u001b[11A\u001b[2K\u001b[5A\u001b[2K\u001b[12A\u001b[2K\u001b[12A\u001b[2K\u001b[11A\u001b[2K\u001b[12A\u001b[2K\u001b[4A\u001b[2K\u001b[3A\u001b[2K\u001b[12A\u001b[2K\u001b[12A\u001b[2K\u001b[12A\u001b[2K\u001b[12A\u001b[2K\u001b[2A\u001b[2K\u001b[1A\u001b[2K\u001b[11A\u001b[2K\u001b[12A\u001b[2Klatest: digest: sha256:763a0209d8aa6e0aa4c173f830f1f6cb4c0520042bf02dac9628d69581c9148f size: 2846\r\n"
     ]
    }
   ],
   "source": [
    "!docker push fsilvestre/flask"
   ]
  },
  {
   "cell_type": "markdown",
   "metadata": {},
   "source": [
    "¿Les suena familiar esa dinámica de tag / push?"
   ]
  },
  {
   "cell_type": "markdown",
   "metadata": {},
   "source": [
    "## Beanstalk"
   ]
  },
  {
   "cell_type": "code",
   "execution_count": 56,
   "metadata": {},
   "outputs": [
    {
     "name": "stdout",
     "output_type": "stream",
     "text": [
      "REPOSITORY                TAG                 IMAGE ID            CREATED             SIZE\r\n",
      "fsilvestre/task           latest              b9966dc8a342        7 minutes ago       925MB\r\n",
      "flask                     latest              b9966dc8a342        7 minutes ago       925MB\r\n",
      "fsilvestre/flask          latest              b9966dc8a342        7 minutes ago       925MB\r\n",
      "ubuntu                    latest              74435f89ab78        2 days ago          73.9MB\r\n",
      "fsilvestre/flask          <none>              68d446f1d317        2 days ago          924MB\r\n",
      "python                    3.6                 13efce2de907        10 days ago         914MB\r\n",
      "nginx                     latest              2622e6cca7eb        10 days ago         132MB\r\n",
      "ubuntu                    <none>              1d622ef86b13        8 weeks ago         73.9MB\r\n",
      "hello-world               latest              bf756fb1ae65        5 months ago        13.3kB\r\n",
      "hello-world               linux               bf756fb1ae65        5 months ago        13.3kB\r\n",
      "postgres                  9.6                 1ac5eccdbc65        6 months ago        250MB\r\n",
      "zpencerq/docker-airflow   1.10.2              18ccf183a3b7        17 months ago       836MB\r\n",
      "uber/ssh-agent-forward    latest              37e4f49b0353        2 years ago         11.6MB\r\n",
      "redis                     3.2.7               74d8f543ac97        3 years ago         184MB\r\n"
     ]
    }
   ],
   "source": [
    "# Chequear el tamaño de la imagem\n",
    "!docker images"
   ]
  },
  {
   "cell_type": "code",
   "execution_count": 62,
   "metadata": {},
   "outputs": [
    {
     "name": "stdout",
     "output_type": "stream",
     "text": [
      "CONTAINER ID        NAME                CPU %               MEM USAGE / LIMIT     MEM %               NET I/O             BLOCK I/O           PIDS\r\n",
      "0fc5a921ff02        server              0.47%               35.17MiB / 1.944GiB   1.77%               906B / 0B           0B / 0B             3\r\n"
     ]
    }
   ],
   "source": [
    "!docker stats server --no-stream"
   ]
  },
  {
   "cell_type": "markdown",
   "metadata": {},
   "source": [
    "Zippeamos todo el código + el Dockerfile  \n",
    "Creamos una nueva aplicación en Beanstalk con el zip  \n",
    "Podemos inspeccionar Buckets, SecurityGroups, EIPs  \n",
    "Probemos el servicio en la URL pública asignada  \n",
    "http://flask-app.nzrxgehhhp.us-west-2.elasticbeanstalk.com/\n",
    "Revisemos Configuration -> Software  \n",
    "Leamos una variable de entorno en el /"
   ]
  },
  {
   "cell_type": "code",
   "execution_count": null,
   "metadata": {},
   "outputs": [],
   "source": [
    "f\"Hello! I'm inside a container in {os.environ.get('ENVIRONMENT')}\""
   ]
  },
  {
   "cell_type": "code",
   "execution_count": null,
   "metadata": {},
   "outputs": [],
   "source": [
    "!curl http://localhost:5000"
   ]
  },
  {
   "cell_type": "code",
   "execution_count": null,
   "metadata": {},
   "outputs": [],
   "source": [
    "!docker run --rm -p 5000:5000 --name flask -e ENVIRONMENT=local flask"
   ]
  },
  {
   "cell_type": "code",
   "execution_count": null,
   "metadata": {},
   "outputs": [],
   "source": [
    "!curl http://localhost:5000"
   ]
  }
 ],
 "metadata": {
  "kernelspec": {
   "display_name": "Python 3",
   "language": "python",
   "name": "python3"
  },
  "language_info": {
   "codemirror_mode": {
    "name": "ipython",
    "version": 3
   },
   "file_extension": ".py",
   "mimetype": "text/x-python",
   "name": "python",
   "nbconvert_exporter": "python",
   "pygments_lexer": "ipython3",
   "version": "3.7.5"
  }
 },
 "nbformat": 4,
 "nbformat_minor": 2
}
