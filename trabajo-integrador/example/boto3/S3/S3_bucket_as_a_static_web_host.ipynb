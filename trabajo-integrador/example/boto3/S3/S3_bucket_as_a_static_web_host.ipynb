{
 "cells": [
  {
   "cell_type": "markdown",
   "metadata": {},
   "source": [
    "### Using an Amazon S3 bucket as a static web host\n",
    "\n",
    "\n",
    "\n"
   ]
  },
  {
   "cell_type": "markdown",
   "metadata": {},
   "source": [
    "### Define the website configuration\n"
   ]
  },
  {
   "cell_type": "code",
   "execution_count": 2,
   "metadata": {},
   "outputs": [],
   "source": [
    "website_configuration = {\n",
    "    'ErrorDocument': {'Key': 'error.html'},\n",
    "    'IndexDocument': {'Suffix': 'index.html'},\n",
    "}"
   ]
  },
  {
   "cell_type": "markdown",
   "metadata": {},
   "source": [
    "### Define the website configuration"
   ]
  },
  {
   "cell_type": "code",
   "execution_count": null,
   "metadata": {},
   "outputs": [],
   "source": [
    "\n",
    "s3 = boto3.client('s3')\n",
    "s3.put_bucket_website(Bucket='leof-bucket-with-boto3', WebsiteConfiguration=website_configuration)"
   ]
  },
  {
   "cell_type": "markdown",
   "metadata": {},
   "source": [
    "### Get a website configuration\n",
    "\n",
    "- Recupere la configuración del sitio web de un depósito llamando al AWS SDK para obtener el \n",
    "  método get_bucket_website de Python."
   ]
  },
  {
   "cell_type": "code",
   "execution_count": 10,
   "metadata": {},
   "outputs": [
    {
     "name": "stdout",
     "output_type": "stream",
     "text": [
      "{'ResponseMetadata': {'RequestId': '6844E266BCD6F56B', 'HostId': 'P+HtosAj0J1DuhU26rldfRqpehdN8+bYtgmrWSKYLNorwbCXDAC2TClpu9oHn6qo/GOsP4BjSSs=', 'HTTPStatusCode': 200, 'HTTPHeaders': {'x-amz-id-2': 'P+HtosAj0J1DuhU26rldfRqpehdN8+bYtgmrWSKYLNorwbCXDAC2TClpu9oHn6qo/GOsP4BjSSs=', 'x-amz-request-id': '6844E266BCD6F56B', 'date': 'Tue, 16 Jun 2020 01:49:08 GMT', 'content-type': 'application/xml', 'transfer-encoding': 'chunked', 'server': 'AmazonS3'}, 'RetryAttempts': 0}, 'IndexDocument': {'Suffix': 'index.html'}, 'ErrorDocument': {'Key': 'error.html'}}\n"
     ]
    }
   ],
   "source": [
    "import boto3\n",
    "\n",
    "# Retrieve the website configuration\n",
    "s3 = boto3.client('s3')\n",
    "result = s3.get_bucket_website(Bucket='leof-bucket-with-boto3')\n",
    "print(result)"
   ]
  },
  {
   "cell_type": "code",
   "execution_count": null,
   "metadata": {},
   "outputs": [],
   "source": []
  }
 ],
 "metadata": {
  "kernelspec": {
   "display_name": "Python 3",
   "language": "python",
   "name": "python3"
  },
  "language_info": {
   "codemirror_mode": {
    "name": "ipython",
    "version": 3
   },
   "file_extension": ".py",
   "mimetype": "text/x-python",
   "name": "python",
   "nbconvert_exporter": "python",
   "pygments_lexer": "ipython3",
   "version": "3.7.6"
  }
 },
 "nbformat": 4,
 "nbformat_minor": 4
}
