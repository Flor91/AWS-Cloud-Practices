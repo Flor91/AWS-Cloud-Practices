{
 "cells": [
  {
   "cell_type": "markdown",
   "metadata": {},
   "source": [
    "###  Conexion a Amazon S3"
   ]
  },
  {
   "cell_type": "code",
   "execution_count": 4,
   "metadata": {},
   "outputs": [],
   "source": [
    "import boto3\n",
    "\n",
    "#Obtener el recurso de servicio\n",
    "s3 = boto3.resource('s3')\n"
   ]
  },
  {
   "cell_type": "markdown",
   "metadata": {},
   "source": [
    "### Listar los nombres de los buckets"
   ]
  },
  {
   "cell_type": "code",
   "execution_count": 5,
   "metadata": {},
   "outputs": [
    {
     "name": "stdout",
     "output_type": "stream",
     "text": [
      "aws-codestar-us-east-1-622305974757-dabadie-std-tes-app\n",
      "aws-codestar-us-east-1-622305974757-dabadie-std-tes-pipe\n",
      "aws-codestar-us-east-1-622305974757-dabadie-std1-pipe\n",
      "aws-codestar-us-east-1-622305974757-dabadie-std2-pipe\n",
      "aws-codestar-us-east-1-622305974757-dabadie-test-pipe\n",
      "aws-codestar-us-east-1-622305974757-dario-std-test2-pipe\n",
      "aws-codestar-us-east-1-622305974757-efilgueira-pipe\n",
      "aws-codestar-us-east-1-622305974757-erodriguez-node-pipe\n",
      "aws-codestar-us-east-1-622305974757-erodriguez-pipe\n",
      "aws-codestar-us-east-1-622305974757-grecia-code-pipe\n",
      "aws-codestar-us-east-1-622305974757-grecia-codestar-pipe\n",
      "aws-codestar-us-east-1-622305974757-java-leoferrari-pipe\n",
      "aws-codestar-us-east-1-622305974757-kdf-aplic-pipe\n",
      "aws-codestar-us-east-1-622305974757-laravel-julian--pipe\n",
      "aws-codestar-us-east-1-622305974757-laravel-julian-pipe\n",
      "aws-codestar-us-east-1-622305974757-lcoria-node-web-pipe\n",
      "aws-codestar-us-east-1-622305974757-mb-webapp-pipe\n",
      "aws-codestar-us-east-1-622305974757-mbarone-pywebap-pipe\n",
      "aws-codestar-us-east-1-622305974757-mjd-std-pipe\n",
      "aws-codestar-us-east-1-622305974757-nullpointer13-a-pipe\n",
      "aws-codestar-us-east-1-622305974757-nullpointer13-b-pipe\n",
      "aws-codestar-us-east-1-622305974757-nullpointer13-c-pipe\n",
      "aws-codestar-us-east-1-622305974757-pmoreno-cstart-app\n",
      "aws-codestar-us-east-1-622305974757-pmoreno-cstart-pipe\n",
      "aws-codestar-us-east-1-622305974757-pmoreno-test-01-pipe\n",
      "aws-codestar-us-east-1-622305974757-pmoreno-test-app\n",
      "aws-codestar-us-east-1-622305974757-pmoreno-test-pipe\n",
      "aws-codestar-us-east-1-622305974757-sbarindelli-cs-pipe\n",
      "aws-codestar-us-east-1-622305974757-test-juanf-pipe\n",
      "aws-codestar-us-east-2-622305974757\n",
      "aws-codestar-us-east-2-622305974757-mcasse-node-ws-pipe\n",
      "aws-codestar-us-east-2-622305974757-project-test-cj-pipe\n",
      "aws-codestar-us-east-2-622305974757-wallet-aws-pipe\n",
      "bucket-mcasse\n",
      "bucket-sbarindelli\n",
      "ccosta-s3\n",
      "ccosta-s3-replica\n",
      "ccosta.cloudarchitects.com.ar\n",
      "cf-templates-1tj9l241gvblf-us-east-1\n",
      "cf-templates-1tj9l241gvblf-us-east-2\n",
      "cf-templates-1tj9l241gvblf-us-west-1\n",
      "cloud-2020-test\n",
      "cloud-another-web-pmoreno\n",
      "cloud-dh\n",
      "cloud-dh-replica\n",
      "cloud-web-pmoreno\n",
      "cloud-web-pmoreno-log\n",
      "codepipeline-us-east-1-349833856940\n",
      "config-lsoria\n",
      "dabadie-bucket\n",
      "dabadie-test\n",
      "efilgueia-cloud-dh\n",
      "efilgueira-sns\n",
      "efilgueira.cloudarchitects.com.ar\n",
      "elasticbeanstalk-eu-west-2-622305974757\n",
      "elasticbeanstalk-sa-east-1-622305974757\n",
      "elasticbeanstalk-us-east-1-622305974757\n",
      "elasticbeanstalk-us-east-2-622305974757\n",
      "elasticbeanstalk-us-west-2-622305974757\n",
      "erodriguez-ecs\n",
      "eventos-lsoria\n",
      "flask-app-fh-ju\n",
      "flask-app-mbustamante\n",
      "fsilvestre-bucket\n",
      "fsilvestre-web\n",
      "fsilvestre.cloudarchitects.com.ar\n",
      "grecia-bucket\n",
      "grecia.cloudarchitects.com.ar\n",
      "kdf-test\n",
      "kdfbucket\n",
      "lcoria-sns\n",
      "leof-bucket-aws\n",
      "leof-bucket-with-boto3\n",
      "logs-mcasse\n",
      "ls-webnonprofit\n",
      "ls-webnonprofit-replication\n",
      "lsoria-bk\n",
      "lsoria.cloudarchitects.com.ar\n",
      "mbarone-bucket\n",
      "mbarone.cloudarchitects.com.ar\n",
      "mcasse-node-app\n",
      "mcasse-test-sns\n",
      "mcasse-test-sns-nv\n",
      "mcasse.cloudarchitects.com.ar\n",
      "node-app-dh-leo-f\n",
      "nullpointer13-express-app-demo\n",
      "pmoreno-test\n",
      "pperalta-sns\n",
      "primer-bucket-julian\n",
      "s3-events-mbustamante\n",
      "s3-laravel-julian\n",
      "s3eventsgrecia\n",
      "sbarindelli-bucket\n",
      "sns-bucket-nullpointer13\n",
      "sns-s3-agomez\n"
     ]
    }
   ],
   "source": [
    "for bucket in s3.buckets.all():\n",
    "    print(bucket.name)"
   ]
  },
  {
   "cell_type": "markdown",
   "metadata": {},
   "source": [
    "### Subir un archivo a mi bucket personal"
   ]
  },
  {
   "cell_type": "code",
   "execution_count": 9,
   "metadata": {},
   "outputs": [
    {
     "data": {
      "text/plain": [
       "s3.Object(bucket_name='leof-bucket-aws', key='test.jpg')"
      ]
     },
     "execution_count": 9,
     "metadata": {},
     "output_type": "execute_result"
    }
   ],
   "source": [
    "data = open('test.jpg', 'rb')\n",
    "s3.Bucket('leof-bucket-aws').put_object(Key='test.jpg', Body=data)"
   ]
  },
  {
   "cell_type": "markdown",
   "metadata": {},
   "source": [
    "### Descargar un file de mi bucket\n",
    "\n",
    "s3.download_file('BUCKET_NAME', 'OBJECT_NAME', 'FILE_NAME')\n",
    "- BUCKET_NAME: Nombre del bucket.\n",
    "- OBJECT_NAME: el objeto para descargar.\n",
    "- FILE_NAME: el nombre de archivo para guardar el archivo."
   ]
  },
  {
   "cell_type": "code",
   "execution_count": 15,
   "metadata": {},
   "outputs": [],
   "source": [
    "s3Client = boto3.client('s3')\n",
    "s3Client.download_file('leof-bucket-aws', 'test.jpg', 'testDescargar.jpg')"
   ]
  }
 ],
 "metadata": {
  "kernelspec": {
   "display_name": "Python 3",
   "language": "python",
   "name": "python3"
  },
  "language_info": {
   "codemirror_mode": {
    "name": "ipython",
    "version": 3
   },
   "file_extension": ".py",
   "mimetype": "text/x-python",
   "name": "python",
   "nbconvert_exporter": "python",
   "pygments_lexer": "ipython3",
   "version": "3.7.6"
  }
 },
 "nbformat": 4,
 "nbformat_minor": 4
}
