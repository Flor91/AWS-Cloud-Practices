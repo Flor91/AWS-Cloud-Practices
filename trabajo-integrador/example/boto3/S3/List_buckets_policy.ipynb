{
 "cells": [
  {
   "cell_type": "markdown",
   "metadata": {},
   "source": [
    "### Retorna true si las policy del bucket son publica.\n",
    "    "
   ]
  },
  {
   "cell_type": "code",
   "execution_count": 9,
   "metadata": {},
   "outputs": [
    {
     "name": "stdout",
     "output_type": "stream",
     "text": [
      "True\n"
     ]
    }
   ],
   "source": [
    "import boto3\n",
    "import logging\n",
    "from botocore.exceptions import ClientError\n",
    "\n",
    "# Retrieve the policy of the specified bucket\n",
    "s3 = boto3.client('s3')\n",
    "# Obtener el recurso de servicio\n",
    "s3_resource = boto3.resource('s3')\n",
    "\n",
    "bucket_name ='leof-bucket-with-boto3'\n",
    "bucket_name2 ='leof-bucket-aws'\n",
    "bucket_name3 ='ccosta-s3-replica'\n",
    "\n",
    "try:\n",
    "    #result_status = s3.get_public_access_block(Bucket=bucket_name2)\n",
    "    result_status = s3.get_bucket_policy_status(Bucket=bucket_name2)\n",
    "    print((result_status['PolicyStatus'])['IsPublic'])\n",
    "except ClientError as e:\n",
    "    logging.error(e)"
   ]
  },
  {
   "cell_type": "markdown",
   "metadata": {},
   "source": [
    "### Listar las policy de los buckets (Doing)\n",
    "- Cuando un bucket no posee policy, **me da error**."
   ]
  },
  {
   "cell_type": "code",
   "execution_count": 5,
   "metadata": {},
   "outputs": [],
   "source": [
    "def list_bucket_policy():\n",
    "    try:\n",
    "        for bucket in s3_resource.buckets.all():\n",
    "            print(bucket.name)\n",
    "            result_status = s3.get_bucket_policy_status(Bucket=bucket.name)\n",
    "            if (result_status['PolicyStatus'])['IsPublic']:\n",
    "                result = s3.get_bucket_policy(Bucket=bucket.name)\n",
    "                print(result['Policy'])\n",
    "            else:\n",
    "                print('Este bucket no tiene una policy')\n",
    "    except ClientError as e:\n",
    "        logging.error(e)\n",
    "        return False\n",
    "    return True"
   ]
  },
  {
   "cell_type": "code",
   "execution_count": 6,
   "metadata": {},
   "outputs": [
    {
     "name": "stdout",
     "output_type": "stream",
     "text": [
      "aws-codestar-us-east-1-622305974757-dabadie-std-tes-app\n"
     ]
    },
    {
     "name": "stderr",
     "output_type": "stream",
     "text": [
      "ERROR:root:An error occurred (NoSuchBucketPolicy) when calling the GetBucketPolicyStatus operation: The bucket policy does not exist\n"
     ]
    },
    {
     "data": {
      "text/plain": [
       "False"
      ]
     },
     "execution_count": 6,
     "metadata": {},
     "output_type": "execute_result"
    }
   ],
   "source": [
    "list_bucket_policy()"
   ]
  },
  {
   "cell_type": "markdown",
   "metadata": {},
   "source": [
    "### Recuperar el ACL de un bucket"
   ]
  },
  {
   "cell_type": "code",
   "execution_count": 7,
   "metadata": {},
   "outputs": [
    {
     "name": "stdout",
     "output_type": "stream",
     "text": [
      "{'ResponseMetadata': {'RequestId': '297C68E60513847D', 'HostId': 'SImEJTvHcAt/MY4xVAR3ZvPFuoSF8t1BYHJuHMmf8X43AYl5HKDQC7gu3LkEg6Y5ZEzmz+fvKNk=', 'HTTPStatusCode': 200, 'HTTPHeaders': {'x-amz-id-2': 'SImEJTvHcAt/MY4xVAR3ZvPFuoSF8t1BYHJuHMmf8X43AYl5HKDQC7gu3LkEg6Y5ZEzmz+fvKNk=', 'x-amz-request-id': '297C68E60513847D', 'date': 'Sun, 12 Jul 2020 21:37:37 GMT', 'content-type': 'application/xml', 'transfer-encoding': 'chunked', 'server': 'AmazonS3'}, 'RetryAttempts': 1}, 'Owner': {'DisplayName': 'ia', 'ID': '4da01c3c06c3d87be29e3e6c9dce65dff27e95904ae4cae86d45b345f2baa345'}, 'Grants': [{'Grantee': {'DisplayName': 'ia', 'ID': '4da01c3c06c3d87be29e3e6c9dce65dff27e95904ae4cae86d45b345f2baa345', 'Type': 'CanonicalUser'}, 'Permission': 'FULL_CONTROL'}]}\n"
     ]
    }
   ],
   "source": [
    "# Retrieve a bucket's ACL\n",
    "s3 = boto3.client('s3')\n",
    "result = s3.get_bucket_acl(Bucket=bucket_name3)\n",
    "print(result)"
   ]
  },
  {
   "cell_type": "code",
   "execution_count": 8,
   "metadata": {},
   "outputs": [
    {
     "name": "stdout",
     "output_type": "stream",
     "text": [
      "{'ResponseMetadata': {'RequestId': 'F7A060EE282E7D9D', 'HostId': 'rSEorsh4jmWHhGCMkvpjrpRNqSs033V/fFNbVKYoTObAEKoLsfwO5W3iR1P5ubfd71sK8FhAvVA=', 'HTTPStatusCode': 200, 'HTTPHeaders': {'x-amz-id-2': 'rSEorsh4jmWHhGCMkvpjrpRNqSs033V/fFNbVKYoTObAEKoLsfwO5W3iR1P5ubfd71sK8FhAvVA=', 'x-amz-request-id': 'F7A060EE282E7D9D', 'date': 'Sun, 12 Jul 2020 21:37:45 GMT', 'content-type': 'application/xml', 'transfer-encoding': 'chunked', 'server': 'AmazonS3'}, 'RetryAttempts': 0}, 'Owner': {'DisplayName': 'ia', 'ID': '4da01c3c06c3d87be29e3e6c9dce65dff27e95904ae4cae86d45b345f2baa345'}, 'Grants': [{'Grantee': {'DisplayName': 'ia', 'ID': '4da01c3c06c3d87be29e3e6c9dce65dff27e95904ae4cae86d45b345f2baa345', 'Type': 'CanonicalUser'}, 'Permission': 'FULL_CONTROL'}, {'Grantee': {'Type': 'Group', 'URI': 'http://acs.amazonaws.com/groups/s3/LogDelivery'}, 'Permission': 'WRITE'}, {'Grantee': {'Type': 'Group', 'URI': 'http://acs.amazonaws.com/groups/s3/LogDelivery'}, 'Permission': 'READ_ACP'}]}\n"
     ]
    }
   ],
   "source": [
    "result = s3.get_bucket_acl(Bucket=bucket_name2)\n",
    "print(result)"
   ]
  },
  {
   "cell_type": "code",
   "execution_count": null,
   "metadata": {},
   "outputs": [],
   "source": []
  }
 ],
 "metadata": {
  "kernelspec": {
   "display_name": "Python 3",
   "language": "python",
   "name": "python3"
  },
  "language_info": {
   "codemirror_mode": {
    "name": "ipython",
    "version": 3
   },
   "file_extension": ".py",
   "mimetype": "text/x-python",
   "name": "python",
   "nbconvert_exporter": "python",
   "pygments_lexer": "ipython3",
   "version": "3.7.6"
  }
 },
 "nbformat": 4,
 "nbformat_minor": 4
}
