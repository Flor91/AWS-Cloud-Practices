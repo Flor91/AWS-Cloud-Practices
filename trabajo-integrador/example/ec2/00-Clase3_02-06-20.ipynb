{
 "cells": [
  {
   "cell_type": "markdown",
   "metadata": {},
   "source": [
    "### Creacion de una instancia desde cero"
   ]
  },
  {
   "cell_type": "markdown",
   "metadata": {},
   "source": [
    "#### Paso 1:\n",
    "- [Volumen](./01-volumenes_Clase3.ipynb)\n",
    "\n",
    "#### Paso 2:\n",
    "- [Snapshot](./02-snapshot_Clase3.ipynb)"
   ]
  },
  {
   "cell_type": "markdown",
   "metadata": {},
   "source": [
    "### Paso 3: Crear una key pair"
   ]
  },
  {
   "cell_type": "code",
   "execution_count": 3,
   "metadata": {},
   "outputs": [],
   "source": [
    "#!aws ec2 create-key-pair --key-name leof_digital_house_aws \\\n",
    "#--query 'KeyMaterial' --output text > leof_digital_house_aws.pem"
   ]
  },
  {
   "cell_type": "markdown",
   "metadata": {},
   "source": [
    "### Paso 4: Crear un security group para la VPC(vpc-8c5cdff)"
   ]
  },
  {
   "cell_type": "code",
   "execution_count": 4,
   "metadata": {},
   "outputs": [],
   "source": [
    "#!aws ec2 create-security-group --group-name leoFSecurityGroup \\\n",
    "#--description \"My security group de test 2020\" --vpc-id vpc-8c5cdff7"
   ]
  },
  {
   "cell_type": "markdown",
   "metadata": {},
   "source": [
    "### Paso 5: Crear el acceso por ssh"
   ]
  },
  {
   "cell_type": "code",
   "execution_count": 5,
   "metadata": {},
   "outputs": [],
   "source": [
    "#!aws ec2 authorize-security-group-ingress \\\n",
    "#    --group-id sg-0a520bf3992ffd9e6 \\\n",
    "#    --protocol tcp \\\n",
    "#    --port 22 \\\n",
    "#    --cidr 0.0.0.0/0"
   ]
  },
  {
   "cell_type": "markdown",
   "metadata": {},
   "source": [
    "### Paso 6: Crear la instancia\n",
    "- [Instancia](./03-instancia_Clase3.ipynb)"
   ]
  },
  {
   "cell_type": "markdown",
   "metadata": {},
   "source": [
    "### Fuente: \n",
    "\n",
    "* Documentation del servicio EC2: https://docs.aws.amazon.com/cli/latest/reference/ec2/index.html#cli-aws-ec2\n",
    "* Create a instancie https://docs.aws.amazon.com/es_es/cli/latest/userguide/cli-services-ec2-instances.html\n",
    "* Create a key pair:  https://docs.aws.amazon.com/cli/latest/userguide/cli-services-ec2-keypairs.html\n",
    "* Usandos tags: https://docs.aws.amazon.com/AWSEC2/latest/UserGuide/Using_Tags.html\n",
    "* Asociar un volumen a una o varias instancias: https://docs.aws.amazon.com/es_es/AWSEC2/latest/WindowsGuide/ebs-volumes-multi.html\n"
   ]
  }
 ],
 "metadata": {
  "kernelspec": {
   "display_name": "Python 3",
   "language": "python",
   "name": "python3"
  },
  "language_info": {
   "codemirror_mode": {
    "name": "ipython",
    "version": 3
   },
   "file_extension": ".py",
   "mimetype": "text/x-python",
   "name": "python",
   "nbconvert_exporter": "python",
   "pygments_lexer": "ipython3",
   "version": "3.7.6"
  }
 },
 "nbformat": 4,
 "nbformat_minor": 4
}
