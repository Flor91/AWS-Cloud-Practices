{
 "cells": [
  {
   "cell_type": "markdown",
   "metadata": {},
   "source": [
    "### Crear una instancia\n",
    "EC2-VPC\n",
    "En el siguiente ejemplo se muestra cómo lanzar una **instancia t2.micro** en la subred especificada de una **VPC**. Sustituya los valores del parámetro en cursiva por sus propios valores"
   ]
  },
  {
   "cell_type": "code",
   "execution_count": null,
   "metadata": {},
   "outputs": [],
   "source": [
    "!aws ec2 run-instances --image-id ami-09d95fab7fff3776c \\\n",
    "--count 1 --instance-type t2.micro \\\n",
    "--key-name leof_digital_house_aws --security-group-ids leoFSecurityGroup \\\n",
    "--placement \"AvailabilityZone = us-east-1a\" \\\n",
    "--user-data file://bootawsMysql.sh \\\n",
    "--tag-specifications 'ResourceType=instance,Tags=[{Key=Name,Value=testInstancia100720}]'"
   ]
  },
  {
   "cell_type": "markdown",
   "metadata": {},
   "source": [
    "El archivo **bootaws.sh** es una shel de instalación de inicio en la instancia:"
   ]
  },
  {
   "cell_type": "code",
   "execution_count": 1,
   "metadata": {},
   "outputs": [],
   "source": [
    "# !/bin/sh\n",
    "# yum -y install httpd php mysql php-mysql\n",
    "# case $(ps -p 1 -o comm | tail -1) in\n",
    "# systemd) systemctl enable --now httpd ;;\n",
    "# init) chkconfig httpd on; service httpd start ;;\n",
    "# *) echo \"Error starting httpd (OS not using init or systemd).\" 2>&1\n",
    "# esac\n",
    "# if [ ! -f /var/www/html/bootcamp-app.tar.gz ]; then\n",
    "# cd /var/www/html\n",
    "# wget https://s3.amazonaws.com/immersionday-labs/bootcamp-app.tar\n",
    "# tar xvf bootcamp-app.tar\n",
    "# chown apache:root /var/www/html/rds.conf.php\n",
    "# fi\n",
    "# yum -y update"
   ]
  },
  {
   "cell_type": "markdown",
   "metadata": {},
   "source": [
    "### Agregar un volumen a una instancia"
   ]
  },
  {
   "cell_type": "code",
   "execution_count": 3,
   "metadata": {},
   "outputs": [],
   "source": [
    "#!aws ec2 attach-volume --volume-id vol-0dcb7c5855b74cca2 --instance-id i-074a5e1356ed89e89 --device /dev/sdf"
   ]
  },
  {
   "cell_type": "markdown",
   "metadata": {},
   "source": [
    "### Detener una instancia "
   ]
  },
  {
   "cell_type": "code",
   "execution_count": null,
   "metadata": {},
   "outputs": [],
   "source": [
    "!aws ec2 stop-instances --instance-id i-0d2692562177c2e80"
   ]
  },
  {
   "cell_type": "markdown",
   "metadata": {},
   "source": [
    "### Eliminar una instancia\n"
   ]
  },
  {
   "cell_type": "code",
   "execution_count": null,
   "metadata": {},
   "outputs": [],
   "source": [
    "!aws ec2 terminate-instances --instance-ids i-0d2692562177c2e80"
   ]
  },
  {
   "cell_type": "code",
   "execution_count": null,
   "metadata": {},
   "outputs": [],
   "source": []
  }
 ],
 "metadata": {
  "kernelspec": {
   "display_name": "Python 3",
   "language": "python",
   "name": "python3"
  },
  "language_info": {
   "codemirror_mode": {
    "name": "ipython",
    "version": 3
   },
   "file_extension": ".py",
   "mimetype": "text/x-python",
   "name": "python",
   "nbconvert_exporter": "python",
   "pygments_lexer": "ipython3",
   "version": "3.7.6"
  }
 },
 "nbformat": 4,
 "nbformat_minor": 4
}
