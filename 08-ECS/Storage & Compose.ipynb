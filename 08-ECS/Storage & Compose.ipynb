{
 "cells": [
  {
   "cell_type": "markdown",
   "metadata": {},
   "source": [
    "# Storage"
   ]
  },
  {
   "cell_type": "markdown",
   "metadata": {},
   "source": [
    "## volumes"
   ]
  },
  {
   "cell_type": "code",
   "execution_count": null,
   "metadata": {
    "pycharm": {
     "is_executing": true
    }
   },
   "outputs": [],
   "source": [
    "# ¿Que volumenes tengo actualmente en mi maquina?\n",
    "!docker volume ls"
   ]
  },
  {
   "cell_type": "code",
   "execution_count": 8,
   "metadata": {},
   "outputs": [
    {
     "name": "stdout",
     "output_type": "stream",
     "text": [
      "/bin/sh: line 0: cd: /var/lib/docker/volumes/: No such file or directory\r\n"
     ]
    }
   ],
   "source": [
    "# ¿Donde están?\n",
    "# Terminal\n",
    "# !cd /var/lib/docker/volumes/"
   ]
  },
  {
   "cell_type": "code",
   "execution_count": 9,
   "metadata": {},
   "outputs": [
    {
     "name": "stdout",
     "output_type": "stream",
     "text": [
      "my-data-1\r\n"
     ]
    }
   ],
   "source": [
    "# Creamos uno nuevo\n",
    "!docker volume create my-data-1"
   ]
  },
  {
   "cell_type": "code",
   "execution_count": 10,
   "metadata": {},
   "outputs": [
    {
     "name": "stdout",
     "output_type": "stream",
     "text": [
      "DRIVER              VOLUME NAME\r\n",
      "local               my-data-1\r\n"
     ]
    }
   ],
   "source": [
    "# Se puede ver en /var/lib/docker/volumes/\n",
    "!docker volume ls"
   ]
  },
  {
   "cell_type": "code",
   "execution_count": 11,
   "metadata": {},
   "outputs": [
    {
     "name": "stdout",
     "output_type": "stream",
     "text": [
      "[\r\n",
      "    {\r\n",
      "        \"CreatedAt\": \"2020-06-23T11:04:18Z\",\r\n",
      "        \"Driver\": \"local\",\r\n",
      "        \"Labels\": {},\r\n",
      "        \"Mountpoint\": \"/var/lib/docker/volumes/my-data-1/_data\",\r\n",
      "        \"Name\": \"my-data-1\",\r\n",
      "        \"Options\": {},\r\n",
      "        \"Scope\": \"local\"\r\n",
      "    }\r\n",
      "]\r\n"
     ]
    }
   ],
   "source": [
    "# Algo de info del volumen\n",
    "!docker volume inspect my-data-1"
   ]
  },
  {
   "cell_type": "code",
   "execution_count": 12,
   "metadata": {},
   "outputs": [
    {
     "name": "stdout",
     "output_type": "stream",
     "text": [
      "my-data-1\r\n"
     ]
    }
   ],
   "source": [
    "# Eliminamos el volumen\n",
    "!docker volume rm my-data-1"
   ]
  },
  {
   "cell_type": "code",
   "execution_count": null,
   "metadata": {},
   "outputs": [],
   "source": [
    "# Arranquemos un ubuntu en modo interactivo con un volumen montado\n",
    "# Terminal\n",
    "!docker run -it -v my-data:/my-data ubuntu bash"
   ]
  },
  {
   "cell_type": "markdown",
   "metadata": {},
   "source": [
    "Podemos crear un archivo en el volumen, matar el contenedor y crear otro con el mismo volumen montado"
   ]
  },
  {
   "cell_type": "markdown",
   "metadata": {},
   "source": [
    "## bind mounts"
   ]
  },
  {
   "cell_type": "code",
   "execution_count": null,
   "metadata": {},
   "outputs": [],
   "source": [
    "# Terminal\n",
    "!docker run -it -v \"$(pwd)\"/host-data:/host-data ubuntu bash "
   ]
  },
  {
   "cell_type": "markdown",
   "metadata": {},
   "source": [
    "¿Que significa `\"$(pwd)\"`?\n",
    "> Print working directory\n",
    "\n",
    "Podemos modificar el archivo en el Host y vamos a ver los cambios en el contenedor\n",
    "También podemos crear archivos en el contenedor y verlos en el Host"
   ]
  },
  {
   "cell_type": "markdown",
   "metadata": {},
   "source": [
    "# Docker Compose"
   ]
  },
  {
   "cell_type": "markdown",
   "metadata": {},
   "source": [
    "Extendamos la aplicación de la clase anterior y agreguemosle un contador en memoria de la cantidad de visitas.  \n",
    "Vamos a usar una base de datos en memoria llamada Redis http://try.redis.io/"
   ]
  },
  {
   "cell_type": "code",
   "execution_count": 2,
   "outputs": [
    {
     "name": "stdout",
     "output_type": "stream",
     "text": [
      "/Users/florenciasilvestre/Documents/Flor/projects/AWS-Cloud-Practices/08-ECS\r\n"
     ]
    }
   ],
   "source": [
    "!pwd"
   ],
   "metadata": {
    "collapsed": false,
    "pycharm": {
     "name": "#%%\n"
    }
   }
  },
  {
   "cell_type": "code",
   "execution_count": 3,
   "metadata": {},
   "outputs": [
    {
     "name": "stdout",
     "output_type": "stream",
     "text": [
      "#!/usr/bin/env python3\r\n",
      "import os\r\n",
      "from flask import Flask, jsonify\r\n",
      "import redis\r\n",
      "\r\n",
      "app = Flask(__name__)\r\n",
      "cache = redis.Redis(host='redis', port=6379)\r\n",
      "\r\n",
      "\r\n",
      "@app.route(\"/\")\r\n",
      "def hello():\r\n",
      "\ttry:\r\n",
      "\t\tvisits = cache.incr(\"counter\")\r\n",
      "\texcept redis.RedisError:\r\n",
      "\t\tprint('Cant connect to Redis')\r\n",
      "\t\tvisits = \"NaN\"\r\n",
      "\r\n",
      "\treturn jsonify(message=f\"Hello! I'm inside a container. You have called me {visits} times. \")\r\n",
      "\r\n",
      "\r\n",
      "if __name__ == '__main__':\r\n",
      "\tapp.run(host='0.0.0.0', debug=True)\r\n"
     ]
    }
   ],
   "source": [
    "!cat flask-redis/app.py"
   ]
  },
  {
   "cell_type": "code",
   "execution_count": 4,
   "metadata": {},
   "outputs": [
    {
     "name": "stdout",
     "output_type": "stream",
     "text": [
      "Flask\r\n",
      "Redis"
     ]
    }
   ],
   "source": [
    "# Hay una nueva dependencia\n",
    "!cat flask-redis/requirements.txt"
   ]
  },
  {
   "cell_type": "code",
   "execution_count": 5,
   "metadata": {},
   "outputs": [
    {
     "name": "stdout",
     "output_type": "stream",
     "text": [
      "version: '3'\r\n",
      "services:\r\n",
      "  web:\r\n",
      "    build: \"\"\r\n",
      "    ports:\r\n",
      "      - \"80:5000\"\r\n",
      "  redis:\r\n",
      "    image: \"redis:alpine\""
     ]
    }
   ],
   "source": [
    "# ¿Cual seria el equivalente en docker run?\n",
    "!cat flask-redis/docker-compose.yml"
   ]
  },
  {
   "cell_type": "code",
   "execution_count": null,
   "metadata": {},
   "outputs": [],
   "source": [
    "# Levantamos todos los containers que haya en el archivo `docker-compose.yml` de esta carpeta\n",
    "# Terminal\n",
    "# !cd flask-redis && docker-compose up"
   ]
  },
  {
   "cell_type": "code",
   "execution_count": 20,
   "metadata": {},
   "outputs": [
    {
     "name": "stdout",
     "output_type": "stream",
     "text": [
      "curl: (7) Failed to connect to localhost port 80: Connection refused\r\n"
     ]
    }
   ],
   "source": [
    "!curl http://localhost"
   ]
  },
  {
   "cell_type": "code",
   "execution_count": 8,
   "metadata": {},
   "outputs": [
    {
     "name": "stdout",
     "output_type": "stream",
     "text": [
      "REPOSITORY          TAG                 IMAGE ID            CREATED             SIZE\r\n",
      "flask-redis_web     latest              8017c4fbecea        23 seconds ago      924MB\r\n",
      "ubuntu              latest              74435f89ab78        6 days ago          73.9MB\r\n",
      "redis               alpine              b546e82a6d0e        13 days ago         31.5MB\r\n",
      "python              3.6                 13efce2de907        13 days ago         914MB\r\n"
     ]
    }
   ],
   "source": [
    "# Imagenes construidas\n",
    "!docker images"
   ]
  },
  {
   "cell_type": "code",
   "execution_count": 9,
   "metadata": {},
   "outputs": [
    {
     "name": "stdout",
     "output_type": "stream",
     "text": [
      "     Container          Repository       Tag       Image Id       Size  \r\n",
      "------------------------------------------------------------------------\r\n",
      "flask-redis_redis_1   redis             alpine   b546e82a6d0e   31.51 MB\r\n",
      "flask-redis_web_1     flask-redis_web   latest   8017c4fbecea   924.2 MB\r\n"
     ]
    }
   ],
   "source": [
    "# Imagenes utilizadas por este cluster\n",
    "!cd flask-redis && docker-compose images"
   ]
  },
  {
   "cell_type": "code",
   "execution_count": 66,
   "metadata": {},
   "outputs": [
    {
     "name": "stdout",
     "output_type": "stream",
     "text": [
      "redis uses an image, skipping\n",
      "Building web\n",
      "Step 1/6 : FROM python:3.6\n",
      " ---> 13efce2de907\n",
      "Step 2/6 : WORKDIR /app\n",
      " ---> Using cache\n",
      " ---> 9f6727b6e674\n",
      "Step 3/6 : COPY . /app\n",
      " ---> Using cache\n",
      " ---> cfe17c40b6f3\n",
      "Step 4/6 : RUN pip install -r requirements.txt\n",
      " ---> Using cache\n",
      " ---> 05d73edda376\n",
      "Step 5/6 : EXPOSE 5000\n",
      " ---> Using cache\n",
      " ---> e347394d234e\n",
      "Step 6/6 : CMD [\"python\", \"app.py\"]\n",
      " ---> Using cache\n",
      " ---> 2580bf21145f\n",
      "Successfully built 2580bf21145f\n",
      "Successfully tagged flask-redis_web:latest\n"
     ]
    }
   ],
   "source": [
    "# Rebuildear las imagenes en caso de que hagamos algun cambio\n",
    "#!cd flask-redis && docker-compose build"
   ]
  },
  {
   "cell_type": "code",
   "execution_count": 10,
   "metadata": {},
   "outputs": [
    {
     "name": "stdout",
     "output_type": "stream",
     "text": [
      "services:\r\n",
      "  redis:\r\n",
      "    image: redis:alpine\r\n",
      "  web:\r\n",
      "    build:\r\n",
      "      context: /Users/florenciasilvestre/Documents/Flor/projects/AWS-Cloud-Practices/08-ECS/flask-redis\r\n",
      "    ports:\r\n",
      "    - 80:5000/tcp\r\n",
      "version: '3.0'\r\n",
      "\r\n"
     ]
    }
   ],
   "source": [
    "# Docker Compose crea un DNS interno para que podamos acceder a los otros contenedores por su nombre\n",
    "!cd flask-redis && docker-compose config"
   ]
  },
  {
   "cell_type": "code",
   "execution_count": 11,
   "metadata": {},
   "outputs": [
    {
     "name": "stdout",
     "output_type": "stream",
     "text": [
      "       Name                     Command             State          Ports        \r\n",
      "--------------------------------------------------------------------------------\r\n",
      "flask-redis_redis_1   docker-entrypoint.sh redis    Up      6379/tcp            \r\n",
      "                      ...                                                       \r\n",
      "flask-redis_web_1     python app.py                 Up      0.0.0.0:80->5000/tcp\r\n"
     ]
    }
   ],
   "source": [
    "# ¿Como está nuestro cluster?\n",
    "!cd flask-redis && docker-compose ps"
   ]
  },
  {
   "cell_type": "code",
   "execution_count": 12,
   "metadata": {},
   "outputs": [
    {
     "name": "stdout",
     "output_type": "stream",
     "text": [
      "Stopping flask-redis_redis_1 ... \r\n",
      "\u001B[1Bping flask-redis_redis_1 ... \u001B[32mdone\u001B[0m"
     ]
    }
   ],
   "source": [
    "# Matemos el Redis\n",
    "!cd flask-redis && docker-compose stop redis"
   ]
  },
  {
   "cell_type": "code",
   "execution_count": 13,
   "metadata": {},
   "outputs": [
    {
     "name": "stdout",
     "output_type": "stream",
     "text": [
      "{\r\n",
      "  \"message\": \"Hello! I'm inside a container. You have called me NaN times. \"\r\n",
      "}\r\n"
     ]
    }
   ],
   "source": [
    "# Se murio el contador\n",
    "!curl http://localhost"
   ]
  },
  {
   "cell_type": "code",
   "execution_count": 14,
   "metadata": {},
   "outputs": [
    {
     "name": "stdout",
     "output_type": "stream",
     "text": [
      "Starting redis ... \r\n",
      "\u001B[1Bting redis ... \u001B[32mdone\u001B[0m"
     ]
    }
   ],
   "source": [
    "# Resucitemos el contador\n",
    "!cd flask-redis && docker-compose start redis"
   ]
  },
  {
   "cell_type": "code",
   "execution_count": 24,
   "metadata": {},
   "outputs": [
    {
     "name": "stdout",
     "output_type": "stream",
     "text": [
      "curl: (7) Failed to connect to localhost port 80: Connection refused\r\n"
     ]
    }
   ],
   "source": [
    "# Volvemos a ver el contador\n",
    "!curl http://localhost"
   ]
  },
  {
   "cell_type": "code",
   "execution_count": 16,
   "metadata": {},
   "outputs": [
    {
     "name": "stdout",
     "output_type": "stream",
     "text": [
      "Stopping flask-redis_redis_1 ... \r\n",
      "Stopping flask-redis_web_1   ... \r\n",
      "\u001B[1Bping flask-redis_web_1   ... \u001B[32mdone\u001B[0m"
     ]
    }
   ],
   "source": [
    "# Paramos todos los servicios\n",
    "!cd flask-redis && docker-compose stop"
   ]
  },
  {
   "cell_type": "code",
   "execution_count": 17,
   "metadata": {},
   "outputs": [
    {
     "name": "stdout",
     "output_type": "stream",
     "text": [
      "Sending build context to Docker daemon  10.75kB\r\n",
      "Step 1/6 : FROM python:3.6\r\n",
      " ---> 13efce2de907\r\n",
      "Step 2/6 : WORKDIR /app\r\n",
      " ---> Using cache\r\n",
      " ---> 1a43efcb9bb4\r\n",
      "Step 3/6 : COPY . /app\r\n",
      " ---> 54635d9c5b12\r\n",
      "Step 4/6 : RUN pip install -r requirements.txt\r\n",
      " ---> Running in 6c470ef92bad\r\n",
      "Collecting Flask\r\n",
      "  Downloading Flask-1.1.2-py2.py3-none-any.whl (94 kB)\r\n",
      "Collecting Redis\r\n",
      "  Downloading redis-3.5.3-py2.py3-none-any.whl (72 kB)\r\n",
      "Collecting Jinja2>=2.10.1\r\n",
      "  Downloading Jinja2-2.11.2-py2.py3-none-any.whl (125 kB)\r\n",
      "Collecting Werkzeug>=0.15\r\n",
      "  Downloading Werkzeug-1.0.1-py2.py3-none-any.whl (298 kB)\r\n",
      "Collecting click>=5.1\r\n",
      "  Downloading click-7.1.2-py2.py3-none-any.whl (82 kB)\r\n",
      "Collecting itsdangerous>=0.24\r\n",
      "  Downloading itsdangerous-1.1.0-py2.py3-none-any.whl (16 kB)\r\n",
      "Collecting MarkupSafe>=0.23\r\n",
      "  Downloading MarkupSafe-1.1.1-cp36-cp36m-manylinux1_x86_64.whl (27 kB)\r\n",
      "Installing collected packages: MarkupSafe, Jinja2, Werkzeug, click, itsdangerous, Flask, Redis\r\n",
      "Successfully installed Flask-1.1.2 Jinja2-2.11.2 MarkupSafe-1.1.1 Redis-3.5.3 Werkzeug-1.0.1 click-7.1.2 itsdangerous-1.1.0\r\n",
      "Removing intermediate container 6c470ef92bad\r\n",
      " ---> 86b620369eb2\r\n",
      "Step 5/6 : EXPOSE 5000\r\n",
      " ---> Running in 80983d91b272\r\n",
      "Removing intermediate container 80983d91b272\r\n",
      " ---> 231c783288f3\r\n",
      "Step 6/6 : CMD [\"python\", \"app.py\"]\r\n",
      " ---> Running in 74a719cc2ef3\r\n",
      "Removing intermediate container 74a719cc2ef3\r\n",
      " ---> 329998504fbc\r\n",
      "Successfully built 329998504fbc\r\n",
      "Successfully tagged flask-redis:latest\r\n"
     ]
    }
   ],
   "source": [
    "# Construimos la imagen sola\n",
    "!docker build -t flask-redis flask-redis"
   ]
  },
  {
   "cell_type": "code",
   "execution_count": 18,
   "metadata": {},
   "outputs": [],
   "source": [
    "# Taggeamos y pusheamos porque lo vamos a usar mas adelante\n",
    "!docker tag flask-redis fsilvestre/flask-redis"
   ]
  },
  {
   "cell_type": "code",
   "execution_count": 19,
   "metadata": {
    "pycharm": {
     "name": "#%%\n"
    }
   },
   "outputs": [
    {
     "name": "stdout",
     "output_type": "stream",
     "text": [
      "The push refers to repository [docker.io/fsilvestre/flask-redis]\r\n",
      "\r\n",
      "\u001B[1Ba335dbc8: Preparing \r\n",
      "\u001B[1B1ac6331d: Preparing \r\n",
      "\u001B[1B463ce1ff: Preparing \r\n",
      "\u001B[1B703d6103: Preparing \r\n",
      "\u001B[1Bf6aa0d01: Preparing \r\n",
      "\u001B[1Bb9f75f56: Preparing \r\n",
      "\u001B[1B305e9fd3: Preparing \r\n",
      "\u001B[1B18a2e1b1: Preparing \r\n",
      "\u001B[1B4ca91984: Preparing \r\n",
      "\u001B[1Bde4639e0: Preparing \r\n",
      "\u001B[1B89d2d3c5: Preparing \r\n",
      "\u001B[12B335dbc8: Pushed   10.81MB/10.09MBflask [2K\u001B[10A\u001B[2K\u001B[8A\u001B[2K\u001B[12A\u001B[2K\u001B[12A\u001B[2K\u001B[12A\u001B[2K\u001B[9A\u001B[2K\u001B[12A\u001B[2K\u001B[7A\u001B[2K\u001B[11A\u001B[2K\u001B[12A\u001B[2K\u001B[12A\u001B[2K\u001B[10A\u001B[2K\u001B[6A\u001B[2K\u001B[12A\u001B[2K\u001B[5A\u001B[2K\u001B[12A\u001B[2K\u001B[4A\u001B[2K\u001B[12A\u001B[2K\u001B[2A\u001B[2K\u001B[1A\u001B[2K\u001B[12A\u001B[2K\u001B[12A\u001B[2K\u001B[12A\u001B[2K\u001B[12A\u001B[2K\u001B[12A\u001B[2K\u001B[12A\u001B[2K\u001B[12A\u001B[2K\u001B[12A\u001B[2K\u001B[12A\u001B[2K\u001B[12A\u001B[2K\u001B[12A\u001B[2K\u001B[12A\u001B[2K\u001B[12A\u001B[2K\u001B[12A\u001B[2K\u001B[12A\u001B[2K\u001B[12A\u001B[2K\u001B[12A\u001B[2K\u001B[12A\u001B[2K\u001B[12A\u001B[2K\u001B[12A\u001B[2Klatest: digest: sha256:564b1a380246f3d31ce99cb9345db7a470e2c7f5fbf6fdfe64c900f3af5829ba size: 2843\r\n"
     ]
    }
   ],
   "source": [
    "!docker push fsilvestre/flask-redis\n"
   ]
  }
 ],
 "metadata": {
  "kernelspec": {
   "display_name": "Python 3",
   "language": "python",
   "name": "python3"
  },
  "language_info": {
   "codemirror_mode": {
    "name": "ipython",
    "version": 3
   },
   "file_extension": ".py",
   "mimetype": "text/x-python",
   "name": "python",
   "nbconvert_exporter": "python",
   "pygments_lexer": "ipython3",
   "version": "3.7.6"
  }
 },
 "nbformat": 4,
 "nbformat_minor": 4
}